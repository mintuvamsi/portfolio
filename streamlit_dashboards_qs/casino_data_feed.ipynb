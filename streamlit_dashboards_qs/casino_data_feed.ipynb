{
 "cells": [
  {
   "cell_type": "code",
   "execution_count": 1,
   "metadata": {},
   "outputs": [],
   "source": [
    "from db_connection import get_db_connection\n",
    "import pandas as pd \n",
    "from faker import Faker\n",
    "import random\n",
    "from datetime import datetime, timedelta\n",
    "import psycopg2\n"
   ]
  },
  {
   "cell_type": "code",
   "execution_count": 2,
   "metadata": {},
   "outputs": [
    {
     "name": "stdout",
     "output_type": "stream",
     "text": [
      "Connected to the database.\n"
     ]
    }
   ],
   "source": [
    "conn = get_db_connection()"
   ]
  },
  {
   "cell_type": "code",
   "execution_count": 3,
   "metadata": {},
   "outputs": [],
   "source": [
    "cursor = conn.cursor()"
   ]
  },
  {
   "cell_type": "code",
   "execution_count": 4,
   "metadata": {},
   "outputs": [],
   "source": [
    "cursor.execute('''\n",
    "SELECT column_name\n",
    "FROM information_schema.columns\n",
    "WHERE table_schema = 'public'\n",
    "  AND table_name = 'live_tables';\n",
    " \n",
    "''')"
   ]
  },
  {
   "cell_type": "code",
   "execution_count": 5,
   "metadata": {},
   "outputs": [
    {
     "data": {
      "text/plain": [
       "[('table_id',),\n",
       " ('game_type',),\n",
       " ('table_number',),\n",
       " ('status',),\n",
       " ('open_timestamp',),\n",
       " ('close_timestamp',),\n",
       " ('inspector_login_time',),\n",
       " ('dealer_login_time',),\n",
       " ('inspector_change_time',),\n",
       " ('dealer_change_time',),\n",
       " ('inspector_id',),\n",
       " ('dealer_id',)]"
      ]
     },
     "execution_count": 5,
     "metadata": {},
     "output_type": "execute_result"
    }
   ],
   "source": [
    "cursor.fetchall()"
   ]
  },
  {
   "cell_type": "code",
   "execution_count": 6,
   "metadata": {},
   "outputs": [],
   "source": [
    "\n",
    "# # Create a cursor object\n",
    "# cur = conn.cursor()\n",
    "\n",
    "# # Instantiate a Faker object\n",
    "# fake = Faker()\n",
    "\n",
    "# # Define the number of records to generate\n",
    "# num_records = 1000000\n",
    "\n",
    "# # Generate and insert random data into the \"customers\" table\n",
    "# for _ in range(num_records):\n",
    "#     name = fake.name()\n",
    "#     email = fake.email()\n",
    "#     phone = fake.phone_number()[:20]  # Limiting to 20 characters\n",
    "#     birth_date = fake.date_of_birth(minimum_age=18, maximum_age=90).strftime('%Y-%m-%d')\n",
    "#     amount = round(random.uniform(10, 1000), 2)\n",
    "#     membership_type = random.choice(['silver', 'gold', 'platinum', 'black', 'tribune'])\n",
    "#     timestamp = fake.date_time_between(start_date='-1y', end_date='now').strftime('%Y-%m-%d %H:%M:%S')\n",
    "#     gender = random.choice(['Male', 'Female', 'Other'])\n",
    "\n",
    "#     # SQL query to insert data into the \"customers\" table\n",
    "#     sql = \"INSERT INTO customers (name, email, phone, birth_date, amount, membership_type, timestamp, gender) \" \\\n",
    "#           \"VALUES (%s, %s, %s, %s, %s, %s, %s, %s)\"\n",
    "#     # Execute the SQL query\n",
    "#     cur.execute(sql, (name, email, phone, birth_date, amount, membership_type, timestamp, gender))\n",
    "\n",
    "#     # Commit the transaction\n",
    "#     conn.commit()\n",
    "\n",
    "# # Close the cursor and database connection\n",
    "# cur.close()\n",
    "# conn.close()\n"
   ]
  },
  {
   "cell_type": "code",
   "execution_count": 7,
   "metadata": {},
   "outputs": [],
   "source": [
    "# # Instantiate a Faker object\n",
    "# fake = Faker()\n",
    "\n",
    "# # Define the number of employees to generate\n",
    "# num_employees = 200\n",
    "\n",
    "# # Define the number of managers, inspectors, and dealers\n",
    "# num_managers = 10\n",
    "# num_inspectors = 50\n",
    "# num_dealers = num_employees - num_managers - num_inspectors\n",
    "\n",
    "# # Define positions\n",
    "# managers = ['Manager'] * num_managers\n",
    "# inspectors = ['Inspector'] * num_inspectors\n",
    "# dealers = ['Dealer'] * num_dealers\n",
    "\n",
    "# # Combine positions\n",
    "# positions = managers + inspectors + dealers\n",
    "\n",
    "# # Shuffle positions to randomize\n",
    "# random.shuffle(positions)\n",
    "\n",
    "# # Generate and insert data into the \"employees\" table\n",
    "# for position in positions:\n",
    "#     name = fake.name()\n",
    "#     logged_in_time = fake.date_time_between(start_date='-1y', end_date='now')\n",
    "#     # Insert NULL for logged_out_time initially\n",
    "#     sql = \"INSERT INTO employees (name, position, logged_in_time) VALUES (%s, %s, %s) RETURNING employee_id\"\n",
    "#     cursor.execute(sql, (name, position, logged_in_time))\n",
    "#     employee_id = cursor.fetchone()[0]\n",
    "#     # Update logged_out_time for managers and inspectors\n",
    "#     if position in ['Manager', 'Inspector']:\n",
    "#         logged_out_time = fake.date_time_between(start_date=logged_in_time, end_date='now')\n",
    "#         sql = \"UPDATE employees SET logged_out_time = %s WHERE employee_id = %s\"\n",
    "#         cursor.execute(sql, (logged_out_time, employee_id))\n",
    "\n",
    "# # Commit the transaction\n",
    "# conn.commit()\n",
    "\n",
    "# # Close the cursor and database connection\n",
    "# cursor.close()\n",
    "# conn.close()\n"
   ]
  },
  {
   "cell_type": "code",
   "execution_count": 9,
   "metadata": {},
   "outputs": [
    {
     "name": "stdout",
     "output_type": "stream",
     "text": [
      "Error executing SQL script: current transaction is aborted, commands ignored until end of transaction block\n",
      "\n"
     ]
    }
   ],
   "source": []
  },
  {
   "cell_type": "code",
   "execution_count": null,
   "metadata": {},
   "outputs": [],
   "source": []
  }
 ],
 "metadata": {
  "kernelspec": {
   "display_name": "wydo",
   "language": "python",
   "name": "python3"
  },
  "language_info": {
   "codemirror_mode": {
    "name": "ipython",
    "version": 3
   },
   "file_extension": ".py",
   "mimetype": "text/x-python",
   "name": "python",
   "nbconvert_exporter": "python",
   "pygments_lexer": "ipython3",
   "version": "3.8.18"
  }
 },
 "nbformat": 4,
 "nbformat_minor": 2
}
