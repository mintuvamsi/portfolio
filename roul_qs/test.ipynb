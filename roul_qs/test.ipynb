{
 "cells": [
  {
   "cell_type": "code",
   "execution_count": null,
   "metadata": {},
   "outputs": [],
   "source": [
    "import pandas as pd \n",
    "from icalendar import Calendar, Event\n",
    "from datetime import datetime\n"
   ]
  },
  {
   "cell_type": "code",
   "execution_count": null,
   "metadata": {},
   "outputs": [],
   "source": [
    "df = pd.read_excel('static/schedule.xlsx')"
   ]
  },
  {
   "cell_type": "code",
   "execution_count": null,
   "metadata": {},
   "outputs": [],
   "source": [
    "df.columns"
   ]
  },
  {
   "cell_type": "code",
   "execution_count": null,
   "metadata": {},
   "outputs": [],
   "source": [
    "# Convert 'Date' column to datetime format\n",
    "df['Date'] = pd.to_datetime(df['Date'], format='%a %d %b %y')"
   ]
  },
  {
   "cell_type": "code",
   "execution_count": null,
   "metadata": {},
   "outputs": [],
   "source": [
    "\n",
    "# Convert 'Time' column to time format\n",
    "df['Time'] = pd.to_datetime(df['Time'], format='%H-%M', errors='coerce').dt.time"
   ]
  },
  {
   "cell_type": "code",
   "execution_count": null,
   "metadata": {},
   "outputs": [],
   "source": [
    "df.dtypes"
   ]
  },
  {
   "cell_type": "code",
   "execution_count": 2,
   "metadata": {},
   "outputs": [],
   "source": [
    "import pandas as pd\n",
    "from icalendar import Calendar, Event, Alarm\n",
    "from datetime import datetime, timedelta\n",
    "\n",
    "# Given DataFrame\n",
    "df = pd.DataFrame({\n",
    "    'Date': [\n",
    "        'Tue 20 Feb 24', 'Wed 21 Feb 24', 'Thu 22 Feb 24', 'Fri 23 Feb 24', 'Sat 24 Feb 24',\n",
    "        'Sun 25 Feb 24', 'Mon 26 Feb 24', 'Tue 27 Feb 24', 'Wed 28 Feb 24', 'Thu 29 Feb 24',\n",
    "        'Fri 01 Mar 24'\n",
    "    ],\n",
    "    'Time': [\n",
    "        'HOL', 'Off', 'Off', '21:05', '18:02', '18:02', '14:22', 'Off', 'Off', '22:06', '18:02'\n",
    "    ]\n",
    "})\n",
    "\n",
    "# Convert 'Date' column to datetime format\n",
    "df['Date'] = pd.to_datetime(df['Date'], format='%a %d %b %y')\n",
    "\n",
    "# Convert 'Time' column to datetime format\n",
    "df['Time'] = pd.to_datetime(df['Time'], format='%H:%M', errors='coerce').dt.time\n",
    "\n",
    "# Filter out rows with invalid time values (NaT)\n",
    "df = df.dropna(subset=['Time'])\n",
    "\n",
    "# Create a Calendar object\n",
    "cal = Calendar()\n",
    "\n",
    "# Default alert settings (10 minutes before the event)\n",
    "default_alert = timedelta(hours=-3)\n",
    "\n",
    "# Default sound file URL\n",
    "default_sound_url = 'https://example.com/alert_sound.mp3'\n",
    "\n",
    "# Add events to the calendar\n",
    "for index, row in df.iterrows():\n",
    "    event = Event()\n",
    "    event.add('summary', 'Event')\n",
    "    # Subtract 3 hours from the event time to set the alarm\n",
    "    alarm_time = datetime.combine(row['Date'], row['Time']) + default_alert\n",
    "    event.add('dtstart', datetime.combine(row['Date'], row['Time']))\n",
    "    event.add('dtend', datetime.combine(row['Date'], row['Time']))\n",
    "    # Add VALARM component with default alert\n",
    "    alarm = Alarm()\n",
    "    alarm.add('action', 'AUDIO')\n",
    "    alarm.add('trigger', default_alert)\n",
    "    # Set alarm sound URL\n",
    "    alarm.add('attach', default_sound_url)\n",
    "    event.add_component(alarm)\n",
    "    cal.add_component(event)\n",
    "\n",
    "# Save the calendar to a file\n",
    "with open('calendar_with_alarm.ics', 'wb') as f:\n",
    "    f.write(cal.to_ical())\n"
   ]
  },
  {
   "cell_type": "code",
   "execution_count": 1,
   "metadata": {},
   "outputs": [
    {
     "name": "stdout",
     "output_type": "stream",
     "text": [
      "Alarm set for: 2024-02-20 13:57:25.460693\n"
     ]
    }
   ],
   "source": [
    "import datetime\n",
    "import time\n",
    "from playsound import playsound\n",
    "\n",
    "# Calculate the time 30 seconds from now\n",
    "alarm_time = datetime.datetime.now() + datetime.timedelta(seconds=30)\n",
    "\n",
    "# Print the alarm time\n",
    "print(\"Alarm set for:\", alarm_time)\n",
    "\n",
    "# Wait for 30 seconds\n",
    "time.sleep(30)\n",
    "\n",
    "# After 30 seconds, play the alarm sound\n",
    "playsound('/Users/vamsi/Project_ai/portfolio/roul_qs/static/success-fanfare-trumpets-6185.mp3')\n"
   ]
  },
  {
   "cell_type": "code",
   "execution_count": null,
   "metadata": {},
   "outputs": [],
   "source": []
  }
 ],
 "metadata": {
  "kernelspec": {
   "display_name": "wydo",
   "language": "python",
   "name": "python3"
  },
  "language_info": {
   "codemirror_mode": {
    "name": "ipython",
    "version": 3
   },
   "file_extension": ".py",
   "mimetype": "text/x-python",
   "name": "python",
   "nbconvert_exporter": "python",
   "pygments_lexer": "ipython3",
   "version": "3.12.1"
  }
 },
 "nbformat": 4,
 "nbformat_minor": 2
}
