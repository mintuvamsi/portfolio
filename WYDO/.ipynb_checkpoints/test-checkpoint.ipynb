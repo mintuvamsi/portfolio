{
 "cells": [
  {
   "cell_type": "code",
   "execution_count": 1,
   "metadata": {},
   "outputs": [
    {
     "name": "stdout",
     "output_type": "stream",
     "text": [
      "Schedule\n",
      "\n",
      "Fri 19 Jan 24\n",
      "\n",
      "Sat 20 Jan 24\n",
      "\n",
      "Sun 21 Jan 24\n",
      "\n",
      "Mon 22 Jan 24\n",
      "\n",
      "Tue 23 Jan 24\n",
      "\n",
      "Wed 24 Jan 24\n",
      "\n",
      "Thu 25 Jan 24\n",
      "\n",
      "Fri 26 Jan 24\n",
      "\n",
      "Sat 27 Jan 24\n",
      "\n",
      "Sun 28 Jan 24\n",
      "\n",
      "Mon 29 Jan 24\n",
      "\n",
      "Off\n",
      "\n",
      "18-02\n",
      "\n",
      "18-02\n",
      "\n",
      "18-02\n",
      "\n",
      "18-02\n",
      "\n",
      "14-22\n",
      "\n",
      "Off\n",
      "\n",
      "Off\n",
      "\n",
      "22-06\n",
      "\n",
      "21-05\n",
      "\n",
      "21-05\n",
      "\n",
      "Schedule\n",
      "\n",
      "(HOL-Paid\n",
      "21:00-05:00)\n",
      "\n",
      "\n"
     ]
    }
   ],
   "source": [
    "\n",
    "import pytesseract\n",
    "from PIL import Image\n",
    "import pandas as pd \n",
    "\n",
    "# Open the .jpeg file using the PIL library\n",
    "image = Image.open('/Users/vamsi/Downloads/IMG_D5A080012F56-1.jpeg')\n",
    "\n",
    "# Use pytesseract to scan the text from the image\n",
    "text = pytesseract.image_to_string(image)\n",
    "\n",
    "# Print out the scanned text\n",
    "print(text)"
   ]
  },
  {
   "cell_type": "code",
   "execution_count": 2,
   "metadata": {},
   "outputs": [
    {
     "data": {
      "text/plain": [
       "str"
      ]
     },
     "execution_count": 2,
     "metadata": {},
     "output_type": "execute_result"
    }
   ],
   "source": [
    "type(text)"
   ]
  },
  {
   "cell_type": "code",
   "execution_count": null,
   "metadata": {},
   "outputs": [],
   "source": [
    "pd.read_"
   ]
  }
 ],
 "metadata": {
  "kernelspec": {
   "display_name": "Python 3 (ipykernel)",
   "language": "python",
   "name": "python3"
  },
  "language_info": {
   "codemirror_mode": {
    "name": "ipython",
    "version": 3
   },
   "file_extension": ".py",
   "mimetype": "text/x-python",
   "name": "python",
   "nbconvert_exporter": "python",
   "pygments_lexer": "ipython3",
   "version": "3.12.1"
  }
 },
 "nbformat": 4,
 "nbformat_minor": 4
}
