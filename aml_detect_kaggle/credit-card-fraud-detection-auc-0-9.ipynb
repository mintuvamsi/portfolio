{
 "cells": [
  {
   "cell_type": "code",
   "execution_count": 1,
   "id": "3e6293c1",
   "metadata": {
    "execution": {
     "iopub.execute_input": "2022-11-23T17:00:29.561452Z",
     "iopub.status.busy": "2022-11-23T17:00:29.560597Z",
     "iopub.status.idle": "2022-11-23T17:00:34.027566Z",
     "shell.execute_reply": "2022-11-23T17:00:34.026183Z"
    },
    "papermill": {
     "duration": 4.487738,
     "end_time": "2022-11-23T17:00:34.030198",
     "exception": false,
     "start_time": "2022-11-23T17:00:29.542460",
     "status": "completed"
    },
    "tags": []
   },
   "outputs": [],
   "source": [
    "import numpy as np \n",
    "import pandas as pd \n",
    "\n",
    "import matplotlib.pyplot as plt\n",
    "import seaborn as sns\n",
    "import missingno as msno\n",
    "from scipy import stats\n",
    "import plotly.express as px\n",
    "import plotly.figure_factory as ff\n",
    "from plotly.subplots import make_subplots\n",
    "import plotly.graph_objs as go\n",
    "plt.style.use('ggplot')\n",
    "\n",
    "from sklearn.preprocessing import StandardScaler\n",
    "from sklearn.model_selection import train_test_split\n",
    "from imblearn.combine import SMOTETomek\n",
    "from collections import Counter\n",
    "\n",
    "from sklearn.ensemble import RandomForestClassifier\n",
    "from lightgbm.sklearn import LGBMClassifier\n",
    "import xgboost as xgb\n",
    "from sklearn.svm import SVC\n",
    "from sklearn.linear_model import LogisticRegression\n",
    "\n",
    "from sklearn.metrics import accuracy_score\n",
    "from sklearn.metrics import roc_auc_score\n",
    "from sklearn.metrics import classification_report\n",
    "from sklearn.metrics import roc_curve, RocCurveDisplay\n",
    "\n",
    "import warnings\n",
    "warnings.filterwarnings('ignore')\n",
    "\n",
    "import os\n",
    "# for dirname, _, filenames in os.walk('/kaggle/input'):\n",
    "#     for filename in filenames:\n",
    "#         print(os.path.join(dirname, filename))"
   ]
  },
  {
   "cell_type": "code",
   "execution_count": 2,
   "id": "2ab3a048",
   "metadata": {
    "execution": {
     "iopub.execute_input": "2022-11-23T17:00:34.128993Z",
     "iopub.status.busy": "2022-11-23T17:00:34.127708Z",
     "iopub.status.idle": "2022-11-23T17:00:55.181340Z",
     "shell.execute_reply": "2022-11-23T17:00:55.179570Z"
    },
    "papermill": {
     "duration": 21.074849,
     "end_time": "2022-11-23T17:00:55.184443",
     "exception": false,
     "start_time": "2022-11-23T17:00:34.109594",
     "status": "completed"
    },
    "tags": []
   },
   "outputs": [],
   "source": [
    "fraud = pd.read_csv('PS_20174392719_1491204439457_log.csv')"
   ]
  },
  {
   "cell_type": "code",
   "execution_count": 3,
   "id": "0a9346e0",
   "metadata": {
    "execution": {
     "iopub.execute_input": "2022-11-23T17:00:55.254232Z",
     "iopub.status.busy": "2022-11-23T17:00:55.253768Z",
     "iopub.status.idle": "2022-11-23T17:00:55.282234Z",
     "shell.execute_reply": "2022-11-23T17:00:55.280909Z"
    },
    "papermill": {
     "duration": 0.050859,
     "end_time": "2022-11-23T17:00:55.284745",
     "exception": false,
     "start_time": "2022-11-23T17:00:55.233886",
     "status": "completed"
    },
    "tags": []
   },
   "outputs": [
    {
     "data": {
      "text/html": [
       "<div>\n",
       "<style scoped>\n",
       "    .dataframe tbody tr th:only-of-type {\n",
       "        vertical-align: middle;\n",
       "    }\n",
       "\n",
       "    .dataframe tbody tr th {\n",
       "        vertical-align: top;\n",
       "    }\n",
       "\n",
       "    .dataframe thead th {\n",
       "        text-align: right;\n",
       "    }\n",
       "</style>\n",
       "<table border=\"1\" class=\"dataframe\">\n",
       "  <thead>\n",
       "    <tr style=\"text-align: right;\">\n",
       "      <th></th>\n",
       "      <th>step</th>\n",
       "      <th>type</th>\n",
       "      <th>amount</th>\n",
       "      <th>nameOrig</th>\n",
       "      <th>oldbalanceOrg</th>\n",
       "      <th>newbalanceOrig</th>\n",
       "      <th>nameDest</th>\n",
       "      <th>oldbalanceDest</th>\n",
       "      <th>newbalanceDest</th>\n",
       "      <th>isFraud</th>\n",
       "      <th>isFlaggedFraud</th>\n",
       "    </tr>\n",
       "  </thead>\n",
       "  <tbody>\n",
       "    <tr>\n",
       "      <th>0</th>\n",
       "      <td>1</td>\n",
       "      <td>PAYMENT</td>\n",
       "      <td>9839.64</td>\n",
       "      <td>C1231006815</td>\n",
       "      <td>170136.0</td>\n",
       "      <td>160296.36</td>\n",
       "      <td>M1979787155</td>\n",
       "      <td>0.0</td>\n",
       "      <td>0.0</td>\n",
       "      <td>0</td>\n",
       "      <td>0</td>\n",
       "    </tr>\n",
       "    <tr>\n",
       "      <th>1</th>\n",
       "      <td>1</td>\n",
       "      <td>PAYMENT</td>\n",
       "      <td>1864.28</td>\n",
       "      <td>C1666544295</td>\n",
       "      <td>21249.0</td>\n",
       "      <td>19384.72</td>\n",
       "      <td>M2044282225</td>\n",
       "      <td>0.0</td>\n",
       "      <td>0.0</td>\n",
       "      <td>0</td>\n",
       "      <td>0</td>\n",
       "    </tr>\n",
       "    <tr>\n",
       "      <th>2</th>\n",
       "      <td>1</td>\n",
       "      <td>TRANSFER</td>\n",
       "      <td>181.00</td>\n",
       "      <td>C1305486145</td>\n",
       "      <td>181.0</td>\n",
       "      <td>0.00</td>\n",
       "      <td>C553264065</td>\n",
       "      <td>0.0</td>\n",
       "      <td>0.0</td>\n",
       "      <td>1</td>\n",
       "      <td>0</td>\n",
       "    </tr>\n",
       "    <tr>\n",
       "      <th>3</th>\n",
       "      <td>1</td>\n",
       "      <td>CASH_OUT</td>\n",
       "      <td>181.00</td>\n",
       "      <td>C840083671</td>\n",
       "      <td>181.0</td>\n",
       "      <td>0.00</td>\n",
       "      <td>C38997010</td>\n",
       "      <td>21182.0</td>\n",
       "      <td>0.0</td>\n",
       "      <td>1</td>\n",
       "      <td>0</td>\n",
       "    </tr>\n",
       "    <tr>\n",
       "      <th>4</th>\n",
       "      <td>1</td>\n",
       "      <td>PAYMENT</td>\n",
       "      <td>11668.14</td>\n",
       "      <td>C2048537720</td>\n",
       "      <td>41554.0</td>\n",
       "      <td>29885.86</td>\n",
       "      <td>M1230701703</td>\n",
       "      <td>0.0</td>\n",
       "      <td>0.0</td>\n",
       "      <td>0</td>\n",
       "      <td>0</td>\n",
       "    </tr>\n",
       "  </tbody>\n",
       "</table>\n",
       "</div>"
      ],
      "text/plain": [
       "   step      type    amount     nameOrig  oldbalanceOrg  newbalanceOrig  \\\n",
       "0     1   PAYMENT   9839.64  C1231006815       170136.0       160296.36   \n",
       "1     1   PAYMENT   1864.28  C1666544295        21249.0        19384.72   \n",
       "2     1  TRANSFER    181.00  C1305486145          181.0            0.00   \n",
       "3     1  CASH_OUT    181.00   C840083671          181.0            0.00   \n",
       "4     1   PAYMENT  11668.14  C2048537720        41554.0        29885.86   \n",
       "\n",
       "      nameDest  oldbalanceDest  newbalanceDest  isFraud  isFlaggedFraud  \n",
       "0  M1979787155             0.0             0.0        0               0  \n",
       "1  M2044282225             0.0             0.0        0               0  \n",
       "2   C553264065             0.0             0.0        1               0  \n",
       "3    C38997010         21182.0             0.0        1               0  \n",
       "4  M1230701703             0.0             0.0        0               0  "
      ]
     },
     "execution_count": 3,
     "metadata": {},
     "output_type": "execute_result"
    }
   ],
   "source": [
    "fraud.head()"
   ]
  },
  {
   "cell_type": "code",
   "execution_count": 4,
   "id": "96bf2f1a",
   "metadata": {
    "execution": {
     "iopub.execute_input": "2022-11-23T17:00:55.351781Z",
     "iopub.status.busy": "2022-11-23T17:00:55.350463Z",
     "iopub.status.idle": "2022-11-23T17:00:55.376811Z",
     "shell.execute_reply": "2022-11-23T17:00:55.374381Z"
    },
    "papermill": {
     "duration": 0.047321,
     "end_time": "2022-11-23T17:00:55.379484",
     "exception": false,
     "start_time": "2022-11-23T17:00:55.332163",
     "status": "completed"
    },
    "tags": []
   },
   "outputs": [
    {
     "name": "stdout",
     "output_type": "stream",
     "text": [
      "<class 'pandas.core.frame.DataFrame'>\n",
      "RangeIndex: 6362620 entries, 0 to 6362619\n",
      "Data columns (total 11 columns):\n",
      " #   Column          Dtype  \n",
      "---  ------          -----  \n",
      " 0   step            int64  \n",
      " 1   type            object \n",
      " 2   amount          float64\n",
      " 3   nameOrig        object \n",
      " 4   oldbalanceOrg   float64\n",
      " 5   newbalanceOrig  float64\n",
      " 6   nameDest        object \n",
      " 7   oldbalanceDest  float64\n",
      " 8   newbalanceDest  float64\n",
      " 9   isFraud         int64  \n",
      " 10  isFlaggedFraud  int64  \n",
      "dtypes: float64(5), int64(3), object(3)\n",
      "memory usage: 534.0+ MB\n"
     ]
    }
   ],
   "source": [
    "fraud.info()"
   ]
  },
  {
   "cell_type": "code",
   "execution_count": 5,
   "id": "38e200a3",
   "metadata": {
    "execution": {
     "iopub.execute_input": "2022-11-23T17:00:55.446884Z",
     "iopub.status.busy": "2022-11-23T17:00:55.446441Z",
     "iopub.status.idle": "2022-11-23T17:00:55.454550Z",
     "shell.execute_reply": "2022-11-23T17:00:55.452994Z"
    },
    "papermill": {
     "duration": 0.027955,
     "end_time": "2022-11-23T17:00:55.457066",
     "exception": false,
     "start_time": "2022-11-23T17:00:55.429111",
     "status": "completed"
    },
    "tags": []
   },
   "outputs": [
    {
     "data": {
      "text/plain": [
       "(6362620, 11)"
      ]
     },
     "execution_count": 5,
     "metadata": {},
     "output_type": "execute_result"
    }
   ],
   "source": [
    "fraud.shape"
   ]
  },
  {
   "cell_type": "code",
   "execution_count": 6,
   "id": "8e60e5b9",
   "metadata": {
    "execution": {
     "iopub.execute_input": "2022-11-23T17:00:55.592394Z",
     "iopub.status.busy": "2022-11-23T17:00:55.591930Z",
     "iopub.status.idle": "2022-11-23T17:00:58.935675Z",
     "shell.execute_reply": "2022-11-23T17:00:58.934318Z"
    },
    "papermill": {
     "duration": 3.365261,
     "end_time": "2022-11-23T17:00:58.938608",
     "exception": false,
     "start_time": "2022-11-23T17:00:55.573347",
     "status": "completed"
    },
    "tags": []
   },
   "outputs": [
    {
     "data": {
      "image/png": "[encoded data removed]",
      "text/plain": [
       "<Figure size 1500x500 with 3 Axes>"
      ]
     },
     "metadata": {},
     "output_type": "display_data"
    }
   ],
   "source": [
    "plt.figure(figsize = (15, 8))\n",
    "msno.bar(fraud, figsize = (15,5), sort = 'ascending', color = \"#896F82\")\n",
    "plt.show()"
   ]
  },
  {
   "cell_type": "code",
   "execution_count": 7,
   "id": "415a3181",
   "metadata": {
    "execution": {
     "iopub.execute_input": "2022-11-23T17:00:59.009883Z",
     "iopub.status.busy": "2022-11-23T17:00:59.009487Z",
     "iopub.status.idle": "2022-11-23T17:01:18.419701Z",
     "shell.execute_reply": "2022-11-23T17:01:18.418410Z"
    },
    "papermill": {
     "duration": 19.432363,
     "end_time": "2022-11-23T17:01:18.422762",
     "exception": false,
     "start_time": "2022-11-23T17:00:58.990399",
     "status": "completed"
    },
    "tags": []
   },
   "outputs": [
    {
     "name": "stdout",
     "output_type": "stream",
     "text": [
      "Number of duplicates are :  0\n"
     ]
    }
   ],
   "source": [
    "print('Number of duplicates are : ', fraud.duplicated().sum())"
   ]
  },
  {
   "cell_type": "code",
   "execution_count": 8,
   "id": "71063c9d",
   "metadata": {
    "execution": {
     "iopub.execute_input": "2022-11-23T17:01:18.498628Z",
     "iopub.status.busy": "2022-11-23T17:01:18.497974Z",
     "iopub.status.idle": "2022-11-23T17:01:18.505751Z",
     "shell.execute_reply": "2022-11-23T17:01:18.504493Z"
    },
    "papermill": {
     "duration": 0.030722,
     "end_time": "2022-11-23T17:01:18.508640",
     "exception": false,
     "start_time": "2022-11-23T17:01:18.477918",
     "status": "completed"
    },
    "tags": []
   },
   "outputs": [
    {
     "data": {
      "text/plain": [
       "Index(['step', 'type', 'amount', 'nameOrig', 'oldbalanceOrg', 'newbalanceOrig',\n",
       "       'nameDest', 'oldbalanceDest', 'newbalanceDest', 'isFraud',\n",
       "       'isFlaggedFraud'],\n",
       "      dtype='object')"
      ]
     },
     "execution_count": 8,
     "metadata": {},
     "output_type": "execute_result"
    }
   ],
   "source": [
    "fraud.columns"
   ]
  },
  {
   "cell_type": "code",
   "execution_count": 9,
   "id": "6bfe931a",
   "metadata": {
    "execution": {
     "iopub.execute_input": "2022-11-23T17:01:18.582454Z",
     "iopub.status.busy": "2022-11-23T17:01:18.581682Z",
     "iopub.status.idle": "2022-11-23T17:01:19.082827Z",
     "shell.execute_reply": "2022-11-23T17:01:19.081630Z"
    },
    "papermill": {
     "duration": 0.523826,
     "end_time": "2022-11-23T17:01:19.085941",
     "exception": false,
     "start_time": "2022-11-23T17:01:18.562115",
     "status": "completed"
    },
    "tags": []
   },
   "outputs": [],
   "source": [
    "fraud = fraud.rename(columns = {'nameOrig' : 'origin', 'oldbalanceOrg' : 'sender_old_balance', 'newbalanceOrig': 'sender_new_balance', 'nameDest' : 'destination', 'oldbalanceDest' : 'receiver_old_balance', 'newbalanceDest': 'receiver_new_balance', 'isFraud' : 'isfraud'})"
   ]
  },
  {
   "cell_type": "code",
   "execution_count": 10,
   "id": "51ad3a11",
   "metadata": {
    "execution": {
     "iopub.execute_input": "2022-11-23T17:01:19.162260Z",
     "iopub.status.busy": "2022-11-23T17:01:19.161806Z",
     "iopub.status.idle": "2022-11-23T17:01:19.666159Z",
     "shell.execute_reply": "2022-11-23T17:01:19.664786Z"
    },
    "papermill": {
     "duration": 0.528046,
     "end_time": "2022-11-23T17:01:19.669033",
     "exception": false,
     "start_time": "2022-11-23T17:01:19.140987",
     "status": "completed"
    },
    "tags": []
   },
   "outputs": [],
   "source": [
    "fraud = fraud.drop(columns = ['step', 'isFlaggedFraud'], axis = 'columns')"
   ]
  },
  {
   "cell_type": "code",
   "execution_count": 11,
   "id": "3d62d45c",
   "metadata": {
    "execution": {
     "iopub.execute_input": "2022-11-23T17:01:19.743631Z",
     "iopub.status.busy": "2022-11-23T17:01:19.743205Z",
     "iopub.status.idle": "2022-11-23T17:01:20.262655Z",
     "shell.execute_reply": "2022-11-23T17:01:20.260816Z"
    },
    "papermill": {
     "duration": 0.542428,
     "end_time": "2022-11-23T17:01:20.265702",
     "exception": false,
     "start_time": "2022-11-23T17:01:19.723274",
     "status": "completed"
    },
    "tags": []
   },
   "outputs": [],
   "source": [
    "cols = fraud.columns.tolist()\n",
    "new_position = 3\n",
    "\n",
    "cols.insert(new_position, cols.pop(cols.index('destination')))\n",
    "fraud = fraud[cols]"
   ]
  },
  {
   "cell_type": "code",
   "execution_count": 12,
   "id": "8c5f08d9",
   "metadata": {
    "execution": {
     "iopub.execute_input": "2022-11-23T17:01:20.337815Z",
     "iopub.status.busy": "2022-11-23T17:01:20.337420Z",
     "iopub.status.idle": "2022-11-23T17:01:20.356549Z",
     "shell.execute_reply": "2022-11-23T17:01:20.355293Z"
    },
    "papermill": {
     "duration": 0.040565,
     "end_time": "2022-11-23T17:01:20.358907",
     "exception": false,
     "start_time": "2022-11-23T17:01:20.318342",
     "status": "completed"
    },
    "tags": []
   },
   "outputs": [
    {
     "data": {
      "text/html": [
       "<div>\n",
       "<style scoped>\n",
       "    .dataframe tbody tr th:only-of-type {\n",
       "        vertical-align: middle;\n",
       "    }\n",
       "\n",
       "    .dataframe tbody tr th {\n",
       "        vertical-align: top;\n",
       "    }\n",
       "\n",
       "    .dataframe thead th {\n",
       "        text-align: right;\n",
       "    }\n",
       "</style>\n",
       "<table border=\"1\" class=\"dataframe\">\n",
       "  <thead>\n",
       "    <tr style=\"text-align: right;\">\n",
       "      <th></th>\n",
       "      <th>type</th>\n",
       "      <th>amount</th>\n",
       "      <th>origin</th>\n",
       "      <th>destination</th>\n",
       "      <th>sender_old_balance</th>\n",
       "      <th>sender_new_balance</th>\n",
       "      <th>receiver_old_balance</th>\n",
       "      <th>receiver_new_balance</th>\n",
       "      <th>isfraud</th>\n",
       "    </tr>\n",
       "  </thead>\n",
       "  <tbody>\n",
       "    <tr>\n",
       "      <th>0</th>\n",
       "      <td>PAYMENT</td>\n",
       "      <td>9839.64</td>\n",
       "      <td>C1231006815</td>\n",
       "      <td>M1979787155</td>\n",
       "      <td>170136.0</td>\n",
       "      <td>160296.36</td>\n",
       "      <td>0.0</td>\n",
       "      <td>0.0</td>\n",
       "      <td>0</td>\n",
       "    </tr>\n",
       "    <tr>\n",
       "      <th>1</th>\n",
       "      <td>PAYMENT</td>\n",
       "      <td>1864.28</td>\n",
       "      <td>C1666544295</td>\n",
       "      <td>M2044282225</td>\n",
       "      <td>21249.0</td>\n",
       "      <td>19384.72</td>\n",
       "      <td>0.0</td>\n",
       "      <td>0.0</td>\n",
       "      <td>0</td>\n",
       "    </tr>\n",
       "    <tr>\n",
       "      <th>2</th>\n",
       "      <td>TRANSFER</td>\n",
       "      <td>181.00</td>\n",
       "      <td>C1305486145</td>\n",
       "      <td>C553264065</td>\n",
       "      <td>181.0</td>\n",
       "      <td>0.00</td>\n",
       "      <td>0.0</td>\n",
       "      <td>0.0</td>\n",
       "      <td>1</td>\n",
       "    </tr>\n",
       "    <tr>\n",
       "      <th>3</th>\n",
       "      <td>CASH_OUT</td>\n",
       "      <td>181.00</td>\n",
       "      <td>C840083671</td>\n",
       "      <td>C38997010</td>\n",
       "      <td>181.0</td>\n",
       "      <td>0.00</td>\n",
       "      <td>21182.0</td>\n",
       "      <td>0.0</td>\n",
       "      <td>1</td>\n",
       "    </tr>\n",
       "    <tr>\n",
       "      <th>4</th>\n",
       "      <td>PAYMENT</td>\n",
       "      <td>11668.14</td>\n",
       "      <td>C2048537720</td>\n",
       "      <td>M1230701703</td>\n",
       "      <td>41554.0</td>\n",
       "      <td>29885.86</td>\n",
       "      <td>0.0</td>\n",
       "      <td>0.0</td>\n",
       "      <td>0</td>\n",
       "    </tr>\n",
       "  </tbody>\n",
       "</table>\n",
       "</div>"
      ],
      "text/plain": [
       "       type    amount       origin  destination  sender_old_balance  \\\n",
       "0   PAYMENT   9839.64  C1231006815  M1979787155            170136.0   \n",
       "1   PAYMENT   1864.28  C1666544295  M2044282225             21249.0   \n",
       "2  TRANSFER    181.00  C1305486145   C553264065               181.0   \n",
       "3  CASH_OUT    181.00   C840083671    C38997010               181.0   \n",
       "4   PAYMENT  11668.14  C2048537720  M1230701703             41554.0   \n",
       "\n",
       "   sender_new_balance  receiver_old_balance  receiver_new_balance  isfraud  \n",
       "0           160296.36                   0.0                   0.0        0  \n",
       "1            19384.72                   0.0                   0.0        0  \n",
       "2                0.00                   0.0                   0.0        1  \n",
       "3                0.00               21182.0                   0.0        1  \n",
       "4            29885.86                   0.0                   0.0        0  "
      ]
     },
     "execution_count": 12,
     "metadata": {},
     "output_type": "execute_result"
    }
   ],
   "source": [
    "fraud.head()"
   ]
  },
  {
   "cell_type": "code",
   "execution_count": 13,
   "id": "2f52443a",
   "metadata": {},
   "outputs": [
    {
     "data": {
      "text/html": [
       "<div>\n",
       "<style scoped>\n",
       "    .dataframe tbody tr th:only-of-type {\n",
       "        vertical-align: middle;\n",
       "    }\n",
       "\n",
       "    .dataframe tbody tr th {\n",
       "        vertical-align: top;\n",
       "    }\n",
       "\n",
       "    .dataframe thead th {\n",
       "        text-align: right;\n",
       "    }\n",
       "</style>\n",
       "<table border=\"1\" class=\"dataframe\">\n",
       "  <thead>\n",
       "    <tr style=\"text-align: right;\">\n",
       "      <th></th>\n",
       "      <th>type</th>\n",
       "      <th>amount</th>\n",
       "      <th>origin</th>\n",
       "      <th>destination</th>\n",
       "      <th>sender_old_balance</th>\n",
       "      <th>sender_new_balance</th>\n",
       "      <th>receiver_old_balance</th>\n",
       "      <th>receiver_new_balance</th>\n",
       "      <th>isfraud</th>\n",
       "    </tr>\n",
       "  </thead>\n",
       "  <tbody>\n",
       "    <tr>\n",
       "      <th>0</th>\n",
       "      <td>PAYMENT</td>\n",
       "      <td>9839.64</td>\n",
       "      <td>C1231006815</td>\n",
       "      <td>M1979787155</td>\n",
       "      <td>170136.00</td>\n",
       "      <td>160296.36</td>\n",
       "      <td>0.00</td>\n",
       "      <td>0.00</td>\n",
       "      <td>0</td>\n",
       "    </tr>\n",
       "    <tr>\n",
       "      <th>1</th>\n",
       "      <td>PAYMENT</td>\n",
       "      <td>1864.28</td>\n",
       "      <td>C1666544295</td>\n",
       "      <td>M2044282225</td>\n",
       "      <td>21249.00</td>\n",
       "      <td>19384.72</td>\n",
       "      <td>0.00</td>\n",
       "      <td>0.00</td>\n",
       "      <td>0</td>\n",
       "    </tr>\n",
       "    <tr>\n",
       "      <th>2</th>\n",
       "      <td>TRANSFER</td>\n",
       "      <td>181.00</td>\n",
       "      <td>C1305486145</td>\n",
       "      <td>C553264065</td>\n",
       "      <td>181.00</td>\n",
       "      <td>0.00</td>\n",
       "      <td>0.00</td>\n",
       "      <td>0.00</td>\n",
       "      <td>1</td>\n",
       "    </tr>\n",
       "    <tr>\n",
       "      <th>3</th>\n",
       "      <td>CASH_OUT</td>\n",
       "      <td>181.00</td>\n",
       "      <td>C840083671</td>\n",
       "      <td>C38997010</td>\n",
       "      <td>181.00</td>\n",
       "      <td>0.00</td>\n",
       "      <td>21182.00</td>\n",
       "      <td>0.00</td>\n",
       "      <td>1</td>\n",
       "    </tr>\n",
       "    <tr>\n",
       "      <th>4</th>\n",
       "      <td>PAYMENT</td>\n",
       "      <td>11668.14</td>\n",
       "      <td>C2048537720</td>\n",
       "      <td>M1230701703</td>\n",
       "      <td>41554.00</td>\n",
       "      <td>29885.86</td>\n",
       "      <td>0.00</td>\n",
       "      <td>0.00</td>\n",
       "      <td>0</td>\n",
       "    </tr>\n",
       "    <tr>\n",
       "      <th>...</th>\n",
       "      <td>...</td>\n",
       "      <td>...</td>\n",
       "      <td>...</td>\n",
       "      <td>...</td>\n",
       "      <td>...</td>\n",
       "      <td>...</td>\n",
       "      <td>...</td>\n",
       "      <td>...</td>\n",
       "      <td>...</td>\n",
       "    </tr>\n",
       "    <tr>\n",
       "      <th>6362615</th>\n",
       "      <td>CASH_OUT</td>\n",
       "      <td>339682.13</td>\n",
       "      <td>C786484425</td>\n",
       "      <td>C776919290</td>\n",
       "      <td>339682.13</td>\n",
       "      <td>0.00</td>\n",
       "      <td>0.00</td>\n",
       "      <td>339682.13</td>\n",
       "      <td>1</td>\n",
       "    </tr>\n",
       "    <tr>\n",
       "      <th>6362616</th>\n",
       "      <td>TRANSFER</td>\n",
       "      <td>6311409.28</td>\n",
       "      <td>C1529008245</td>\n",
       "      <td>C1881841831</td>\n",
       "      <td>6311409.28</td>\n",
       "      <td>0.00</td>\n",
       "      <td>0.00</td>\n",
       "      <td>0.00</td>\n",
       "      <td>1</td>\n",
       "    </tr>\n",
       "    <tr>\n",
       "      <th>6362617</th>\n",
       "      <td>CASH_OUT</td>\n",
       "      <td>6311409.28</td>\n",
       "      <td>C1162922333</td>\n",
       "      <td>C1365125890</td>\n",
       "      <td>6311409.28</td>\n",
       "      <td>0.00</td>\n",
       "      <td>68488.84</td>\n",
       "      <td>6379898.11</td>\n",
       "      <td>1</td>\n",
       "    </tr>\n",
       "    <tr>\n",
       "      <th>6362618</th>\n",
       "      <td>TRANSFER</td>\n",
       "      <td>850002.52</td>\n",
       "      <td>C1685995037</td>\n",
       "      <td>C2080388513</td>\n",
       "      <td>850002.52</td>\n",
       "      <td>0.00</td>\n",
       "      <td>0.00</td>\n",
       "      <td>0.00</td>\n",
       "      <td>1</td>\n",
       "    </tr>\n",
       "    <tr>\n",
       "      <th>6362619</th>\n",
       "      <td>CASH_OUT</td>\n",
       "      <td>850002.52</td>\n",
       "      <td>C1280323807</td>\n",
       "      <td>C873221189</td>\n",
       "      <td>850002.52</td>\n",
       "      <td>0.00</td>\n",
       "      <td>6510099.11</td>\n",
       "      <td>7360101.63</td>\n",
       "      <td>1</td>\n",
       "    </tr>\n",
       "  </tbody>\n",
       "</table>\n",
       "<p>6362620 rows × 9 columns</p>\n",
       "</div>"
      ],
      "text/plain": [
       "             type      amount       origin  destination  sender_old_balance  \\\n",
       "0         PAYMENT     9839.64  C1231006815  M1979787155           170136.00   \n",
       "1         PAYMENT     1864.28  C1666544295  M2044282225            21249.00   \n",
       "2        TRANSFER      181.00  C1305486145   C553264065              181.00   \n",
       "3        CASH_OUT      181.00   C840083671    C38997010              181.00   \n",
       "4         PAYMENT    11668.14  C2048537720  M1230701703            41554.00   \n",
       "...           ...         ...          ...          ...                 ...   \n",
       "6362615  CASH_OUT   339682.13   C786484425   C776919290           339682.13   \n",
       "6362616  TRANSFER  6311409.28  C1529008245  C1881841831          6311409.28   \n",
       "6362617  CASH_OUT  6311409.28  C1162922333  C1365125890          6311409.28   \n",
       "6362618  TRANSFER   850002.52  C1685995037  C2080388513           850002.52   \n",
       "6362619  CASH_OUT   850002.52  C1280323807   C873221189           850002.52   \n",
       "\n",
       "         sender_new_balance  receiver_old_balance  receiver_new_balance  \\\n",
       "0                 160296.36                  0.00                  0.00   \n",
       "1                  19384.72                  0.00                  0.00   \n",
       "2                      0.00                  0.00                  0.00   \n",
       "3                      0.00              21182.00                  0.00   \n",
       "4                  29885.86                  0.00                  0.00   \n",
       "...                     ...                   ...                   ...   \n",
       "6362615                0.00                  0.00             339682.13   \n",
       "6362616                0.00                  0.00                  0.00   \n",
       "6362617                0.00              68488.84            6379898.11   \n",
       "6362618                0.00                  0.00                  0.00   \n",
       "6362619                0.00            6510099.11            7360101.63   \n",
       "\n",
       "         isfraud  \n",
       "0              0  \n",
       "1              0  \n",
       "2              1  \n",
       "3              1  \n",
       "4              0  \n",
       "...          ...  \n",
       "6362615        1  \n",
       "6362616        1  \n",
       "6362617        1  \n",
       "6362618        1  \n",
       "6362619        1  \n",
       "\n",
       "[6362620 rows x 9 columns]"
      ]
     },
     "execution_count": 13,
     "metadata": {},
     "output_type": "execute_result"
    }
   ],
   "source": [
    "fraud"
   ]
  },
  {
   "cell_type": "code",
   "execution_count": 14,
   "id": "bce24f83",
   "metadata": {},
   "outputs": [
    {
     "data": {
      "text/plain": [
       "type                     object\n",
       "amount                  float64\n",
       "origin                   object\n",
       "destination              object\n",
       "sender_old_balance      float64\n",
       "sender_new_balance      float64\n",
       "receiver_old_balance    float64\n",
       "receiver_new_balance    float64\n",
       "isfraud                   int64\n",
       "dtype: object"
      ]
     },
     "execution_count": 14,
     "metadata": {},
     "output_type": "execute_result"
    }
   ],
   "source": [
    "fraud.dtypes"
   ]
  },
  {
   "cell_type": "code",
   "execution_count": 15,
   "id": "7af8b12b",
   "metadata": {},
   "outputs": [],
   "source": [
    "fraud.type= fraud.type.astype('str')"
   ]
  },
  {
   "cell_type": "code",
   "execution_count": 16,
   "id": "6cb02d0b",
   "metadata": {},
   "outputs": [
    {
     "data": {
      "text/plain": [
       "type                    0\n",
       "amount                  0\n",
       "origin                  0\n",
       "destination             0\n",
       "sender_old_balance      0\n",
       "sender_new_balance      0\n",
       "receiver_old_balance    0\n",
       "receiver_new_balance    0\n",
       "isfraud                 0\n",
       "dtype: int64"
      ]
     },
     "execution_count": 16,
     "metadata": {},
     "output_type": "execute_result"
    }
   ],
   "source": [
    "# Count the number of non-missing values in each column\n",
    "fraud.isna().sum()\n"
   ]
  },
  {
   "cell_type": "code",
   "execution_count": 17,
   "id": "a0e06232",
   "metadata": {
    "execution": {
     "iopub.execute_input": "2022-11-23T17:01:20.499454Z",
     "iopub.status.busy": "2022-11-23T17:01:20.499055Z",
     "iopub.status.idle": "2022-11-23T17:01:26.324620Z",
     "shell.execute_reply": "2022-11-23T17:01:26.323421Z"
    },
    "papermill": {
     "duration": 5.847299,
     "end_time": "2022-11-23T17:01:26.327439",
     "exception": false,
     "start_time": "2022-11-23T17:01:20.480140",
     "status": "completed"
    },
    "tags": []
   },
   "outputs": [
    {
     "data": {
      "image/png": "[encoded data removed]",
      "text/plain": [
       "<Figure size 1500x800 with 1 Axes>"
      ]
     },
     "metadata": {},
     "output_type": "display_data"
    }
   ],
   "source": [
    "plt.figure(figsize = (15, 8))\n",
    "ax= sns.countplot(data = fraud, x = \"type\", palette = 'Set1')\n",
    "plt.title('Fraud and Non Fraud Transactions')\n",
    "for p in ax.patches:\n",
    "        ax.annotate('{:.1f}'.format(p.get_height()), (p.get_x()+0.01, p.get_height()+10000))"
   ]
  },
  {
   "cell_type": "code",
   "execution_count": 32,
   "id": "26dded1b",
   "metadata": {
    "execution": {
     "iopub.execute_input": "2022-11-23T17:01:26.401016Z",
     "iopub.status.busy": "2022-11-23T17:01:26.400604Z",
     "iopub.status.idle": "2022-11-23T17:01:26.891528Z",
     "shell.execute_reply": "2022-11-23T17:01:26.890249Z"
    },
    "papermill": {
     "duration": 0.513101,
     "end_time": "2022-11-23T17:01:26.894373",
     "exception": false,
     "start_time": "2022-11-23T17:01:26.381272",
     "status": "completed"
    },
    "tags": []
   },
   "outputs": [
    {
     "data": {
      "text/plain": [
       "origin\n",
       "C1305486145    1\n",
       "C202278158     1\n",
       "C12585107      1\n",
       "C946427395     1\n",
       "C1069177491    1\n",
       "              ..\n",
       "C2090764492    1\n",
       "C1794935564    1\n",
       "C318078280     1\n",
       "C939293281     1\n",
       "C1685995037    1\n",
       "Name: count, Length: 4097, dtype: int64"
      ]
     },
     "execution_count": 32,
     "metadata": {},
     "output_type": "execute_result"
    }
   ],
   "source": [
    "transfer_fraud = fraud[((fraud['type']=='TRANSFER') & fraud['isfraud']==1)]\n",
    "transfer_fraud['origin'].value_counts()"
   ]
  },
  {
   "cell_type": "code",
   "execution_count": 33,
   "id": "c02a1eb8",
   "metadata": {
    "execution": {
     "iopub.execute_input": "2022-11-23T17:01:26.971358Z",
     "iopub.status.busy": "2022-11-23T17:01:26.970897Z",
     "iopub.status.idle": "2022-11-23T17:01:27.453760Z",
     "shell.execute_reply": "2022-11-23T17:01:27.452332Z"
    },
    "papermill": {
     "duration": 0.505556,
     "end_time": "2022-11-23T17:01:27.456423",
     "exception": false,
     "start_time": "2022-11-23T17:01:26.950867",
     "status": "completed"
    },
    "tags": []
   },
   "outputs": [
    {
     "data": {
      "text/plain": [
       "destination\n",
       "C200064275     2\n",
       "C1399829166    2\n",
       "C1650668671    2\n",
       "C2129197098    2\n",
       "C1013511446    2\n",
       "              ..\n",
       "C1566713324    1\n",
       "C1955464150    1\n",
       "C1104137869    1\n",
       "C377165949     1\n",
       "C873221189     1\n",
       "Name: count, Length: 4091, dtype: int64"
      ]
     },
     "execution_count": 33,
     "metadata": {},
     "output_type": "execute_result"
    }
   ],
   "source": [
    "cash_out_fraud = fraud[(fraud['type'] == 'CASH_OUT') & (fraud['isfraud'] == 1)]\n",
    "cash_out_fraud['destination'].value_counts()"
   ]
  },
  {
   "cell_type": "code",
   "execution_count": 34,
   "id": "fbbeeba5",
   "metadata": {
    "execution": {
     "iopub.execute_input": "2022-11-23T17:01:27.533455Z",
     "iopub.status.busy": "2022-11-23T17:01:27.532776Z",
     "iopub.status.idle": "2022-11-23T17:01:29.933138Z",
     "shell.execute_reply": "2022-11-23T17:01:29.931615Z"
    },
    "papermill": {
     "duration": 2.422984,
     "end_time": "2022-11-23T17:01:29.935478",
     "exception": false,
     "start_time": "2022-11-23T17:01:27.512494",
     "status": "completed"
    },
    "tags": []
   },
   "outputs": [
    {
     "name": "stdout",
     "output_type": "stream",
     "text": [
      "Has the receiving account used for cashing out?\n"
     ]
    },
    {
     "data": {
      "text/plain": [
       "False"
      ]
     },
     "execution_count": 34,
     "metadata": {},
     "output_type": "execute_result"
    }
   ],
   "source": [
    "fraud_trans = fraud[fraud['isfraud'] == 1]\n",
    "valid_trans = fraud[fraud['isfraud'] == 0]\n",
    "\n",
    "trans_transfer = fraud[fraud['type'] == 'TRANSER']\n",
    "trans_cashout = fraud[fraud['type'] == 'CASH_OUT']\n",
    "\n",
    "print('Has the receiving account used for cashing out?')\n",
    "trans_transfer.destination.isin(trans_cashout.origin).any()"
   ]
  },
  {
   "cell_type": "code",
   "execution_count": 35,
   "id": "b430177d",
   "metadata": {
    "execution": {
     "iopub.execute_input": "2022-11-23T17:01:30.083303Z",
     "iopub.status.busy": "2022-11-23T17:01:30.082857Z",
     "iopub.status.idle": "2022-11-23T17:01:55.059651Z",
     "shell.execute_reply": "2022-11-23T17:01:55.058453Z"
    },
    "papermill": {
     "duration": 24.998964,
     "end_time": "2022-11-23T17:01:55.062292",
     "exception": false,
     "start_time": "2022-11-23T17:01:30.063328",
     "status": "completed"
    },
    "tags": []
   },
   "outputs": [],
   "source": [
    "data = fraud.copy()\n",
    "data['type2'] = np.nan\n",
    "data.loc[fraud.origin.str.contains('C') & fraud.destination.str.contains('C'), 'type2'] = 'CC'\n",
    "data.loc[fraud.origin.str.contains('C') & fraud.destination.str.contains('M'), 'type2'] = 'CM'\n",
    "data.loc[fraud.origin.str.contains('M') & fraud.destination.str.contains('C'), 'type2'] = 'MC'\n",
    "data.loc[fraud.origin.str.contains('M') & fraud.destination.str.contains('C'), 'type2'] = 'MM'"
   ]
  },
  {
   "cell_type": "code",
   "execution_count": 36,
   "id": "da527ccf",
   "metadata": {
    "execution": {
     "iopub.execute_input": "2022-11-23T17:01:55.140822Z",
     "iopub.status.busy": "2022-11-23T17:01:55.139771Z",
     "iopub.status.idle": "2022-11-23T17:01:56.922835Z",
     "shell.execute_reply": "2022-11-23T17:01:56.921518Z"
    },
    "papermill": {
     "duration": 1.807812,
     "end_time": "2022-11-23T17:01:56.925523",
     "exception": false,
     "start_time": "2022-11-23T17:01:55.117711",
     "status": "completed"
    },
    "tags": []
   },
   "outputs": [],
   "source": [
    "cols = data.columns.tolist()\n",
    "new_position = 1\n",
    "\n",
    "cols.insert(new_position, cols.pop(cols.index('type2')))\n",
    "data = data[cols]"
   ]
  },
  {
   "cell_type": "code",
   "execution_count": 37,
   "id": "7172103d",
   "metadata": {
    "execution": {
     "iopub.execute_input": "2022-11-23T17:01:57.002052Z",
     "iopub.status.busy": "2022-11-23T17:01:57.001462Z",
     "iopub.status.idle": "2022-11-23T17:01:57.425977Z",
     "shell.execute_reply": "2022-11-23T17:01:57.424246Z"
    },
    "papermill": {
     "duration": 0.4485,
     "end_time": "2022-11-23T17:01:57.429497",
     "exception": false,
     "start_time": "2022-11-23T17:01:56.980997",
     "status": "completed"
    },
    "tags": []
   },
   "outputs": [],
   "source": [
    "data.drop(columns = ['origin','destination'], axis = 'columns', inplace = True)"
   ]
  },
  {
   "cell_type": "code",
   "execution_count": 38,
   "id": "f8b41e84",
   "metadata": {
    "execution": {
     "iopub.execute_input": "2022-11-23T17:01:57.507270Z",
     "iopub.status.busy": "2022-11-23T17:01:57.506812Z",
     "iopub.status.idle": "2022-11-23T17:01:57.525964Z",
     "shell.execute_reply": "2022-11-23T17:01:57.524656Z"
    },
    "papermill": {
     "duration": 0.04181,
     "end_time": "2022-11-23T17:01:57.528595",
     "exception": false,
     "start_time": "2022-11-23T17:01:57.486785",
     "status": "completed"
    },
    "tags": []
   },
   "outputs": [
    {
     "data": {
      "text/html": [
       "<div>\n",
       "<style scoped>\n",
       "    .dataframe tbody tr th:only-of-type {\n",
       "        vertical-align: middle;\n",
       "    }\n",
       "\n",
       "    .dataframe tbody tr th {\n",
       "        vertical-align: top;\n",
       "    }\n",
       "\n",
       "    .dataframe thead th {\n",
       "        text-align: right;\n",
       "    }\n",
       "</style>\n",
       "<table border=\"1\" class=\"dataframe\">\n",
       "  <thead>\n",
       "    <tr style=\"text-align: right;\">\n",
       "      <th></th>\n",
       "      <th>type</th>\n",
       "      <th>type2</th>\n",
       "      <th>amount</th>\n",
       "      <th>sender_old_balance</th>\n",
       "      <th>sender_new_balance</th>\n",
       "      <th>receiver_old_balance</th>\n",
       "      <th>receiver_new_balance</th>\n",
       "      <th>isfraud</th>\n",
       "    </tr>\n",
       "  </thead>\n",
       "  <tbody>\n",
       "    <tr>\n",
       "      <th>0</th>\n",
       "      <td>PAYMENT</td>\n",
       "      <td>CM</td>\n",
       "      <td>9839.64</td>\n",
       "      <td>170136.0</td>\n",
       "      <td>160296.36</td>\n",
       "      <td>0.0</td>\n",
       "      <td>0.0</td>\n",
       "      <td>0</td>\n",
       "    </tr>\n",
       "    <tr>\n",
       "      <th>1</th>\n",
       "      <td>PAYMENT</td>\n",
       "      <td>CM</td>\n",
       "      <td>1864.28</td>\n",
       "      <td>21249.0</td>\n",
       "      <td>19384.72</td>\n",
       "      <td>0.0</td>\n",
       "      <td>0.0</td>\n",
       "      <td>0</td>\n",
       "    </tr>\n",
       "    <tr>\n",
       "      <th>2</th>\n",
       "      <td>TRANSFER</td>\n",
       "      <td>CC</td>\n",
       "      <td>181.00</td>\n",
       "      <td>181.0</td>\n",
       "      <td>0.00</td>\n",
       "      <td>0.0</td>\n",
       "      <td>0.0</td>\n",
       "      <td>1</td>\n",
       "    </tr>\n",
       "    <tr>\n",
       "      <th>3</th>\n",
       "      <td>CASH_OUT</td>\n",
       "      <td>CC</td>\n",
       "      <td>181.00</td>\n",
       "      <td>181.0</td>\n",
       "      <td>0.00</td>\n",
       "      <td>21182.0</td>\n",
       "      <td>0.0</td>\n",
       "      <td>1</td>\n",
       "    </tr>\n",
       "    <tr>\n",
       "      <th>4</th>\n",
       "      <td>PAYMENT</td>\n",
       "      <td>CM</td>\n",
       "      <td>11668.14</td>\n",
       "      <td>41554.0</td>\n",
       "      <td>29885.86</td>\n",
       "      <td>0.0</td>\n",
       "      <td>0.0</td>\n",
       "      <td>0</td>\n",
       "    </tr>\n",
       "  </tbody>\n",
       "</table>\n",
       "</div>"
      ],
      "text/plain": [
       "       type type2    amount  sender_old_balance  sender_new_balance  \\\n",
       "0   PAYMENT    CM   9839.64            170136.0           160296.36   \n",
       "1   PAYMENT    CM   1864.28             21249.0            19384.72   \n",
       "2  TRANSFER    CC    181.00               181.0                0.00   \n",
       "3  CASH_OUT    CC    181.00               181.0                0.00   \n",
       "4   PAYMENT    CM  11668.14             41554.0            29885.86   \n",
       "\n",
       "   receiver_old_balance  receiver_new_balance  isfraud  \n",
       "0                   0.0                   0.0        0  \n",
       "1                   0.0                   0.0        0  \n",
       "2                   0.0                   0.0        1  \n",
       "3               21182.0                   0.0        1  \n",
       "4                   0.0                   0.0        0  "
      ]
     },
     "execution_count": 38,
     "metadata": {},
     "output_type": "execute_result"
    }
   ],
   "source": [
    "data.head()"
   ]
  },
  {
   "cell_type": "code",
   "execution_count": 39,
   "id": "06ecb5a4",
   "metadata": {
    "execution": {
     "iopub.execute_input": "2022-11-23T17:01:57.609636Z",
     "iopub.status.busy": "2022-11-23T17:01:57.608930Z",
     "iopub.status.idle": "2022-11-23T17:01:58.518545Z",
     "shell.execute_reply": "2022-11-23T17:01:58.516981Z"
    },
    "papermill": {
     "duration": 0.934877,
     "end_time": "2022-11-23T17:01:58.522136",
     "exception": false,
     "start_time": "2022-11-23T17:01:57.587259",
     "status": "completed"
    },
    "tags": []
   },
   "outputs": [
    {
     "name": "stdout",
     "output_type": "stream",
     "text": [
      "Number of fraud transactions according to type are below:\n",
      " type2\n",
      "CC    8213\n",
      "Name: count, dtype: int64 \n",
      "\n",
      "Number of valid transactions according to type are below:\n",
      " type2\n",
      "CC    4202912\n",
      "CM    2151495\n",
      "Name: count, dtype: int64\n"
     ]
    }
   ],
   "source": [
    "fraud_trans = data[data['isfraud'] == 1]\n",
    "valid_trans = data[data['isfraud'] == 0]\n",
    "\n",
    "print('Number of fraud transactions according to type are below:\\n', fraud_trans.type2.value_counts(), '\\n')\n",
    "print('Number of valid transactions according to type are below:\\n', valid_trans.type2.value_counts())"
   ]
  },
  {
   "cell_type": "code",
   "execution_count": 40,
   "id": "65388761",
   "metadata": {
    "execution": {
     "iopub.execute_input": "2022-11-23T17:01:58.643156Z",
     "iopub.status.busy": "2022-11-23T17:01:58.642708Z",
     "iopub.status.idle": "2022-11-23T17:01:58.912410Z",
     "shell.execute_reply": "2022-11-23T17:01:58.910802Z"
    },
    "papermill": {
     "duration": 0.292771,
     "end_time": "2022-11-23T17:01:58.915224",
     "exception": false,
     "start_time": "2022-11-23T17:01:58.622453",
     "status": "completed"
    },
    "tags": []
   },
   "outputs": [],
   "source": [
    "fr = fraud_trans.type2.value_counts()\n",
    "va = valid_trans.type2.value_counts()"
   ]
  },
  {
   "cell_type": "code",
   "execution_count": 41,
   "id": "3dfc5d25",
   "metadata": {
    "execution": {
     "iopub.execute_input": "2022-11-23T17:01:58.954975Z",
     "iopub.status.busy": "2022-11-23T17:01:58.954547Z",
     "iopub.status.idle": "2022-11-23T17:01:59.295535Z",
     "shell.execute_reply": "2022-11-23T17:01:59.294278Z"
    },
    "papermill": {
     "duration": 0.363825,
     "end_time": "2022-11-23T17:01:59.298317",
     "exception": false,
     "start_time": "2022-11-23T17:01:58.934492",
     "status": "completed"
    },
    "tags": []
   },
   "outputs": [
    {
     "data": {
      "text/plain": [
       "Text(0.5, 1.0, 'Valid')"
      ]
     },
     "execution_count": 41,
     "metadata": {},
     "output_type": "execute_result"
    },
    {
     "data": {
      "image/png": "[encoded data removed]",
      "text/plain": [
       "<Figure size 1500x800 with 2 Axes>"
      ]
     },
     "metadata": {},
     "output_type": "display_data"
    }
   ],
   "source": [
    "plt.figure(figsize=(15, 8))\n",
    "plt.subplot(1,2,1)\n",
    "sns.countplot(x = fr)\n",
    "plt.title('Fraud',fontweight=\"bold\", size=20)\n",
    "plt.subplot(1,2,2)\n",
    "sns.countplot(x = va)\n",
    "plt.title('Valid',fontweight=\"bold\", size=20)"
   ]
  },
  {
   "cell_type": "code",
   "execution_count": 42,
   "id": "e4fad05f",
   "metadata": {
    "execution": {
     "iopub.execute_input": "2022-11-23T17:01:59.341708Z",
     "iopub.status.busy": "2022-11-23T17:01:59.341078Z",
     "iopub.status.idle": "2022-11-23T17:02:03.710526Z",
     "shell.execute_reply": "2022-11-23T17:02:03.709204Z"
    },
    "papermill": {
     "duration": 4.394319,
     "end_time": "2022-11-23T17:02:03.713668",
     "exception": false,
     "start_time": "2022-11-23T17:01:59.319349",
     "status": "completed"
    },
    "tags": []
   },
   "outputs": [
    {
     "data": {
      "image/png": "[encoded data removed]",
      "text/plain": [
       "<Figure size 1500x800 with 1 Axes>"
      ]
     },
     "metadata": {},
     "output_type": "display_data"
    }
   ],
   "source": [
    "plt.figure(figsize = (15, 8))\n",
    "ax=sns.countplot(data = data, x = \"type\")\n",
    "plt.title('Transactions according to type')\n",
    "for p in ax.patches:\n",
    "        ax.annotate('{:.1f}'.format(p.get_height()), (p.get_x()+0.01, p.get_height()+10000))"
   ]
  },
  {
   "cell_type": "code",
   "execution_count": 43,
   "id": "aa4e2cee",
   "metadata": {
    "execution": {
     "iopub.execute_input": "2022-11-23T17:02:03.757329Z",
     "iopub.status.busy": "2022-11-23T17:02:03.756884Z",
     "iopub.status.idle": "2022-11-23T17:02:04.761382Z",
     "shell.execute_reply": "2022-11-23T17:02:04.759771Z"
    },
    "papermill": {
     "duration": 1.031433,
     "end_time": "2022-11-23T17:02:04.765827",
     "exception": false,
     "start_time": "2022-11-23T17:02:03.734394",
     "status": "completed"
    },
    "tags": []
   },
   "outputs": [
    {
     "data": {
      "image/png": "[encoded data removed]",
      "text/plain": [
       "<Figure size 1500x800 with 1 Axes>"
      ]
     },
     "metadata": {},
     "output_type": "display_data"
    }
   ],
   "source": [
    "plt.figure(figsize=(15,8))\n",
    "colors = ['#006400','#008000','#00FF00','#2E8B57','#2F4F4F']\n",
    "plt.pie(data.type.value_counts().values,labels=data.type.value_counts().index, colors = colors, autopct='%.0f%%')\n",
    "plt.title(\"Transactions according to type\")\n",
    "plt.show()"
   ]
  },
  {
   "cell_type": "code",
   "execution_count": 44,
   "id": "ca36e00e",
   "metadata": {
    "execution": {
     "iopub.execute_input": "2022-11-23T17:02:04.826429Z",
     "iopub.status.busy": "2022-11-23T17:02:04.825982Z",
     "iopub.status.idle": "2022-11-23T17:02:10.238288Z",
     "shell.execute_reply": "2022-11-23T17:02:10.237445Z"
    },
    "papermill": {
     "duration": 5.436309,
     "end_time": "2022-11-23T17:02:10.240549",
     "exception": false,
     "start_time": "2022-11-23T17:02:04.804240",
     "status": "completed"
    },
    "tags": []
   },
   "outputs": [
    {
     "data": {
      "image/png": "[encoded data removed]",
      "text/plain": [
       "<Figure size 1500x800 with 1 Axes>"
      ]
     },
     "metadata": {},
     "output_type": "display_data"
    }
   ],
   "source": [
    "plt.figure(figsize = (15, 8))\n",
    "ax=sns.countplot(data = data, x = \"type2\",  palette = 'Set1')\n",
    "plt.title('Transactions according to type2')\n",
    "for p in ax.patches:\n",
    "        ax.annotate('{:.1f}'.format(p.get_height()), (p.get_x()+0.01, p.get_height()+10000))"
   ]
  },
  {
   "cell_type": "code",
   "execution_count": 45,
   "id": "3c1cbd37",
   "metadata": {
    "execution": {
     "iopub.execute_input": "2022-11-23T17:02:10.285340Z",
     "iopub.status.busy": "2022-11-23T17:02:10.284898Z",
     "iopub.status.idle": "2022-11-23T17:02:10.941637Z",
     "shell.execute_reply": "2022-11-23T17:02:10.939944Z"
    },
    "papermill": {
     "duration": 0.684219,
     "end_time": "2022-11-23T17:02:10.946846",
     "exception": false,
     "start_time": "2022-11-23T17:02:10.262627",
     "status": "completed"
    },
    "tags": []
   },
   "outputs": [
    {
     "data": {
      "image/png": "[encoded data removed]",
      "text/plain": [
       "<Figure size 1500x800 with 1 Axes>"
      ]
     },
     "metadata": {},
     "output_type": "display_data"
    }
   ],
   "source": [
    "plt.figure(figsize=(15,8))\n",
    "colors = ['#006400','#008000']\n",
    "plt.pie(data.type2.value_counts().values,labels=data.type2.value_counts().index, colors = colors,  autopct='%.0f%%')\n",
    "plt.title(\"Transactions according to type2\")\n",
    "plt.show()"
   ]
  },
  {
   "cell_type": "code",
   "execution_count": 46,
   "id": "b1d398b6",
   "metadata": {
    "execution": {
     "iopub.execute_input": "2022-11-23T17:02:11.147749Z",
     "iopub.status.busy": "2022-11-23T17:02:11.147321Z",
     "iopub.status.idle": "2022-11-23T17:02:13.051643Z",
     "shell.execute_reply": "2022-11-23T17:02:13.050369Z"
    },
    "papermill": {
     "duration": 1.929129,
     "end_time": "2022-11-23T17:02:13.054360",
     "exception": false,
     "start_time": "2022-11-23T17:02:11.125231",
     "status": "completed"
    },
    "tags": []
   },
   "outputs": [],
   "source": [
    "data = pd.get_dummies(data, prefix = ['type', 'type2'], drop_first = True)"
   ]
  },
  {
   "cell_type": "code",
   "execution_count": 47,
   "id": "7a02b52c",
   "metadata": {
    "execution": {
     "iopub.execute_input": "2022-11-23T17:02:13.141809Z",
     "iopub.status.busy": "2022-11-23T17:02:13.141371Z",
     "iopub.status.idle": "2022-11-23T17:02:18.374553Z",
     "shell.execute_reply": "2022-11-23T17:02:18.373322Z"
    },
    "papermill": {
     "duration": 5.259642,
     "end_time": "2022-11-23T17:02:18.377628",
     "exception": false,
     "start_time": "2022-11-23T17:02:13.117986",
     "status": "completed"
    },
    "tags": []
   },
   "outputs": [],
   "source": [
    "X = data.drop('isfraud', axis=1)\n",
    "y = data.isfraud\n",
    "\n",
    "X_train, X_test, y_train, y_test = train_test_split(X, y, test_size = 0.30, stratify = data.isfraud)\n",
    "\n",
    "sc = StandardScaler()\n",
    "X_train = sc.fit_transform(X_train)\n",
    "X_test = sc.transform(X_test)"
   ]
  },
  {
   "cell_type": "code",
   "execution_count": 48,
   "id": "a58df1a5",
   "metadata": {
    "execution": {
     "iopub.execute_input": "2022-11-23T17:02:18.507677Z",
     "iopub.status.busy": "2022-11-23T17:02:18.507278Z",
     "iopub.status.idle": "2022-11-23T17:07:10.755554Z",
     "shell.execute_reply": "2022-11-23T17:07:10.754306Z"
    },
    "papermill": {
     "duration": 292.274576,
     "end_time": "2022-11-23T17:07:10.758872",
     "exception": false,
     "start_time": "2022-11-23T17:02:18.484296",
     "status": "completed"
    },
    "tags": []
   },
   "outputs": [],
   "source": [
    "rfc=RandomForestClassifier(n_estimators = 15, n_jobs = -1, random_state = 42)\n",
    "lgbm = LGBMClassifier(boosting_type = 'gbdt',objective = 'binary', random_state = 8888)\n",
    "xgbr = xgb.XGBClassifier(max_depth = 3, n_jobs = -1, random_state = 42, learning_rate = 0.1)\n",
    "logreg = LogisticRegression(solver = 'liblinear', random_state = 42)\n",
    "\n",
    "rfc.fit(X_train, y_train)\n",
    "lgbm.fit(X_train, y_train)\n",
    "xgbr.fit(X_train, y_train)\n",
    "logreg.fit(X_train, y_train)\n",
    "\n",
    "classifiers = []\n",
    "classifiers.append(rfc)\n",
    "classifiers.append(lgbm)\n",
    "classifiers.append(xgbr)\n",
    "classifiers.append(logreg)"
   ]
  },
  {
   "cell_type": "code",
   "execution_count": 49,
   "id": "b44e4d2b",
   "metadata": {
    "execution": {
     "iopub.execute_input": "2022-11-23T17:07:10.868912Z",
     "iopub.status.busy": "2022-11-23T17:07:10.867646Z",
     "iopub.status.idle": "2022-11-23T17:07:23.744550Z",
     "shell.execute_reply": "2022-11-23T17:07:23.743363Z"
    },
    "papermill": {
     "duration": 12.908194,
     "end_time": "2022-11-23T17:07:23.747230",
     "exception": false,
     "start_time": "2022-11-23T17:07:10.839036",
     "status": "completed"
    },
    "tags": []
   },
   "outputs": [],
   "source": [
    "accuracy_list = []\n",
    "auc_list = []\n",
    "\n",
    "for classifier in classifiers:\n",
    "    y_pred = classifier.predict(X_test)\n",
    "    y_pred_proba = classifier.predict_proba(X_test)[:,1]\n",
    "    accuracy_list.append(accuracy_score(y_test, y_pred))\n",
    "    auc_list.append(roc_auc_score(y_test, y_pred_proba))\n",
    "\n",
    "accuracy_dict = {}\n",
    "auc_dict = {}\n",
    "for i in range(4):\n",
    "    key=['Random Forest', 'Light GBM', 'XGBoost','LR'][i]\n",
    "    accuracy_dict[key] = accuracy_list[i]\n",
    "    auc_dict[key] = auc_list[i]\n",
    "    \n",
    "accuracy_dict_sorted = dict(sorted(accuracy_dict.items(), key = lambda item: item[1]))\n",
    "auc_dict_sorted = dict(sorted(auc_dict.items(), key = lambda item: item[1]))"
   ]
  },
  {
   "cell_type": "code",
   "execution_count": 50,
   "id": "2979c38a",
   "metadata": {
    "execution": {
     "iopub.execute_input": "2022-11-23T17:07:23.832977Z",
     "iopub.status.busy": "2022-11-23T17:07:23.832509Z",
     "iopub.status.idle": "2022-11-23T17:07:23.838274Z",
     "shell.execute_reply": "2022-11-23T17:07:23.837284Z"
    },
    "papermill": {
     "duration": 0.030799,
     "end_time": "2022-11-23T17:07:23.840703",
     "exception": false,
     "start_time": "2022-11-23T17:07:23.809904",
     "status": "completed"
    },
    "tags": []
   },
   "outputs": [],
   "source": [
    "def px_bar(x,y,text,title,color,color_discrete_sequence):\n",
    "    return px.bar(x = x, y = y, text = text, title = title, color = color, color_discrete_sequence=color_discrete_sequence)"
   ]
  },
  {
   "cell_type": "code",
   "execution_count": 51,
   "id": "943595fa",
   "metadata": {
    "execution": {
     "iopub.execute_input": "2022-11-23T17:07:23.926616Z",
     "iopub.status.busy": "2022-11-23T17:07:23.926182Z",
     "iopub.status.idle": "2022-11-23T17:07:24.816758Z",
     "shell.execute_reply": "2022-11-23T17:07:24.815573Z"
    },
    "papermill": {
     "duration": 0.915352,
     "end_time": "2022-11-23T17:07:24.819106",
     "exception": false,
     "start_time": "2022-11-23T17:07:23.903754",
     "status": "completed"
    },
    "tags": []
   },
   "outputs": [
    {
     "data": {
      "application/vnd.plotly.v1+json": {
       "config": {
        "plotlyServerURL": "https://plot.ly"
       },
       "data": [
        {
         "alignmentgroup": "True",
         "hovertemplate": "color=Light GBM<br>x=%{x}<br>y=%{y}<br>text=%{text}<extra></extra>",
         "legendgroup": "Light GBM",
         "marker": {
          "color": "rgb(253, 237, 176)",
          "pattern": {
           "shape": ""
          }
         },
         "name": "Light GBM",
         "offsetgroup": "Light GBM",
         "orientation": "v",
         "showlegend": true,
         "text": [
          0.999
         ],
         "textposition": "auto",
         "type": "bar",
         "x": [
          "Light GBM"
         ],
         "xaxis": "x",
         "y": [
          0.9991675337099077
         ],
         "yaxis": "y"
        },
        {
         "alignmentgroup": "True",
         "hovertemplate": "color=LR<br>x=%{x}<br>y=%{y}<br>text=%{text}<extra></extra>",
         "legendgroup": "LR",
         "marker": {
          "color": "rgb(250, 205, 145)",
          "pattern": {
           "shape": ""
          }
         },
         "name": "LR",
         "offsetgroup": "LR",
         "orientation": "v",
         "showlegend": true,
         "text": [
          0.999
         ],
         "textposition": "auto",
         "type": "bar",
         "x": [
          "LR"
         ],
         "xaxis": "x",
         "y": [
          0.9991717248554841
         ],
         "yaxis": "y"
        },
        {
         "alignmentgroup": "True",
         "hovertemplate": "color=XGBoost<br>x=%{x}<br>y=%{y}<br>text=%{text}<extra></extra>",
         "legendgroup": "XGBoost",
         "marker": {
          "color": "rgb(246, 173, 119)",
          "line": {
           "color": "black",
           "width": 3
          },
          "pattern": {
           "shape": ""
          }
         },
         "name": "XGBoost",
         "offsetgroup": "XGBoost",
         "orientation": "v",
         "showlegend": true,
         "text": [
          1
         ],
         "textposition": "auto",
         "type": "bar",
         "x": [
          "XGBoost"
         ],
         "xaxis": "x",
         "y": [
          0.9996091756750102
         ],
         "yaxis": "y"
        },
        {
         "alignmentgroup": "True",
         "hovertemplate": "color=Random Forest<br>x=%{x}<br>y=%{y}<br>text=%{text}<extra></extra>",
         "legendgroup": "Random Forest",
         "marker": {
          "color": "rgb(240, 142, 98)",
          "line": {
           "color": "black",
           "width": 3
          },
          "pattern": {
           "shape": ""
          }
         },
         "name": "Random Forest",
         "offsetgroup": "Random Forest",
         "orientation": "v",
         "showlegend": true,
         "text": [
          1
         ],
         "textposition": "auto",
         "type": "bar",
         "x": [
          "Random Forest"
         ],
         "xaxis": "x",
         "y": [
          0.9996945702661273
         ],
         "yaxis": "y"
        }
       ],
       "layout": {
        "barmode": "relative",
        "legend": {
         "title": {
          "text": "color"
         },
         "tracegroupgap": 0
        },
        "template": {
         "data": {
          "bar": [
           {
            "error_x": {
             "color": "#2a3f5f"
            },
            "error_y": {
             "color": "#2a3f5f"
            },
            "marker": {
             "line": {
              "color": "#E5ECF6",
              "width": 0.5
             },
             "pattern": {
              "fillmode": "overlay",
              "size": 10,
              "solidity": 0.2
             }
            },
            "type": "bar"
           }
          ],
          "barpolar": [
           {
            "marker": {
             "line": {
              "color": "#E5ECF6",
              "width": 0.5
             },
             "pattern": {
              "fillmode": "overlay",
              "size": 10,
              "solidity": 0.2
             }
            },
            "type": "barpolar"
           }
          ],
          "carpet": [
           {
            "aaxis": {
             "endlinecolor": "#2a3f5f",
             "gridcolor": "white",
             "linecolor": "white",
             "minorgridcolor": "white",
             "startlinecolor": "#2a3f5f"
            },
            "baxis": {
             "endlinecolor": "#2a3f5f",
             "gridcolor": "white",
             "linecolor": "white",
             "minorgridcolor": "white",
             "startlinecolor": "#2a3f5f"
            },
            "type": "carpet"
           }
          ],
          "choropleth": [
           {
            "colorbar": {
             "outlinewidth": 0,
             "ticks": ""
            },
            "type": "choropleth"
           }
          ],
          "contour": [
           {
            "colorbar": {
             "outlinewidth": 0,
             "ticks": ""
            },
            "colorscale": [
             [
              0,
              "#0d0887"
             ],
             [
              0.1111111111111111,
              "#46039f"
             ],
             [
              0.2222222222222222,
              "#7201a8"
             ],
             [
              0.3333333333333333,
              "#9c179e"
             ],
             [
              0.4444444444444444,
              "#bd3786"
             ],
             [
              0.5555555555555556,
              "#d8576b"
             ],
             [
              0.6666666666666666,
              "#ed7953"
             ],
             [
              0.7777777777777778,
              "#fb9f3a"
             ],
             [
              0.8888888888888888,
              "#fdca26"
             ],
             [
              1,
              "#f0f921"
             ]
            ],
            "type": "contour"
           }
          ],
          "contourcarpet": [
           {
            "colorbar": {
             "outlinewidth": 0,
             "ticks": ""
            },
            "type": "contourcarpet"
           }
          ],
          "heatmap": [
           {
            "colorbar": {
             "outlinewidth": 0,
             "ticks": ""
            },
            "colorscale": [
             [
              0,
              "#0d0887"
             ],
             [
              0.1111111111111111,
              "#46039f"
             ],
             [
              0.2222222222222222,
              "#7201a8"
             ],
             [
              0.3333333333333333,
              "#9c179e"
             ],
             [
              0.4444444444444444,
              "#bd3786"
             ],
             [
              0.5555555555555556,
              "#d8576b"
             ],
             [
              0.6666666666666666,
              "#ed7953"
             ],
             [
              0.7777777777777778,
              "#fb9f3a"
             ],
             [
              0.8888888888888888,
              "#fdca26"
             ],
             [
              1,
              "#f0f921"
             ]
            ],
            "type": "heatmap"
           }
          ],
          "heatmapgl": [
           {
            "colorbar": {
             "outlinewidth": 0,
             "ticks": ""
            },
            "colorscale": [
             [
              0,
              "#0d0887"
             ],
             [
              0.1111111111111111,
              "#46039f"
             ],
             [
              0.2222222222222222,
              "#7201a8"
             ],
             [
              0.3333333333333333,
              "#9c179e"
             ],
             [
              0.4444444444444444,
              "#bd3786"
             ],
             [
              0.5555555555555556,
              "#d8576b"
             ],
             [
              0.6666666666666666,
              "#ed7953"
             ],
             [
              0.7777777777777778,
              "#fb9f3a"
             ],
             [
              0.8888888888888888,
              "#fdca26"
             ],
             [
              1,
              "#f0f921"
             ]
            ],
            "type": "heatmapgl"
           }
          ],
          "histogram": [
           {
            "marker": {
             "pattern": {
              "fillmode": "overlay",
              "size": 10,
              "solidity": 0.2
             }
            },
            "type": "histogram"
           }
          ],
          "histogram2d": [
           {
            "colorbar": {
             "outlinewidth": 0,
             "ticks": ""
            },
            "colorscale": [
             [
              0,
              "#0d0887"
             ],
             [
              0.1111111111111111,
              "#46039f"
             ],
             [
              0.2222222222222222,
              "#7201a8"
             ],
             [
              0.3333333333333333,
              "#9c179e"
             ],
             [
              0.4444444444444444,
              "#bd3786"
             ],
             [
              0.5555555555555556,
              "#d8576b"
             ],
             [
              0.6666666666666666,
              "#ed7953"
             ],
             [
              0.7777777777777778,
              "#fb9f3a"
             ],
             [
              0.8888888888888888,
              "#fdca26"
             ],
             [
              1,
              "#f0f921"
             ]
            ],
            "type": "histogram2d"
           }
          ],
          "histogram2dcontour": [
           {
            "colorbar": {
             "outlinewidth": 0,
             "ticks": ""
            },
            "colorscale": [
             [
              0,
              "#0d0887"
             ],
             [
              0.1111111111111111,
              "#46039f"
             ],
             [
              0.2222222222222222,
              "#7201a8"
             ],
             [
              0.3333333333333333,
              "#9c179e"
             ],
             [
              0.4444444444444444,
              "#bd3786"
             ],
             [
              0.5555555555555556,
              "#d8576b"
             ],
             [
              0.6666666666666666,
              "#ed7953"
             ],
             [
              0.7777777777777778,
              "#fb9f3a"
             ],
             [
              0.8888888888888888,
              "#fdca26"
             ],
             [
              1,
              "#f0f921"
             ]
            ],
            "type": "histogram2dcontour"
           }
          ],
          "mesh3d": [
           {
            "colorbar": {
             "outlinewidth": 0,
             "ticks": ""
            },
            "type": "mesh3d"
           }
          ],
          "parcoords": [
           {
            "line": {
             "colorbar": {
              "outlinewidth": 0,
              "ticks": ""
             }
            },
            "type": "parcoords"
           }
          ],
          "pie": [
           {
            "automargin": true,
            "type": "pie"
           }
          ],
          "scatter": [
           {
            "fillpattern": {
             "fillmode": "overlay",
             "size": 10,
             "solidity": 0.2
            },
            "type": "scatter"
           }
          ],
          "scatter3d": [
           {
            "line": {
             "colorbar": {
              "outlinewidth": 0,
              "ticks": ""
             }
            },
            "marker": {
             "colorbar": {
              "outlinewidth": 0,
              "ticks": ""
             }
            },
            "type": "scatter3d"
           }
          ],
          "scattercarpet": [
           {
            "marker": {
             "colorbar": {
              "outlinewidth": 0,
              "ticks": ""
             }
            },
            "type": "scattercarpet"
           }
          ],
          "scattergeo": [
           {
            "marker": {
             "colorbar": {
              "outlinewidth": 0,
              "ticks": ""
             }
            },
            "type": "scattergeo"
           }
          ],
          "scattergl": [
           {
            "marker": {
             "colorbar": {
              "outlinewidth": 0,
              "ticks": ""
             }
            },
            "type": "scattergl"
           }
          ],
          "scattermapbox": [
           {
            "marker": {
             "colorbar": {
              "outlinewidth": 0,
              "ticks": ""
             }
            },
            "type": "scattermapbox"
           }
          ],
          "scatterpolar": [
           {
            "marker": {
             "colorbar": {
              "outlinewidth": 0,
              "ticks": ""
             }
            },
            "type": "scatterpolar"
           }
          ],
          "scatterpolargl": [
           {
            "marker": {
             "colorbar": {
              "outlinewidth": 0,
              "ticks": ""
             }
            },
            "type": "scatterpolargl"
           }
          ],
          "scatterternary": [
           {
            "marker": {
             "colorbar": {
              "outlinewidth": 0,
              "ticks": ""
             }
            },
            "type": "scatterternary"
           }
          ],
          "surface": [
           {
            "colorbar": {
             "outlinewidth": 0,
             "ticks": ""
            },
            "colorscale": [
             [
              0,
              "#0d0887"
             ],
             [
              0.1111111111111111,
              "#46039f"
             ],
             [
              0.2222222222222222,
              "#7201a8"
             ],
             [
              0.3333333333333333,
              "#9c179e"
             ],
             [
              0.4444444444444444,
              "#bd3786"
             ],
             [
              0.5555555555555556,
              "#d8576b"
             ],
             [
              0.6666666666666666,
              "#ed7953"
             ],
             [
              0.7777777777777778,
              "#fb9f3a"
             ],
             [
              0.8888888888888888,
              "#fdca26"
             ],
             [
              1,
              "#f0f921"
             ]
            ],
            "type": "surface"
           }
          ],
          "table": [
           {
            "cells": {
             "fill": {
              "color": "#EBF0F8"
             },
             "line": {
              "color": "white"
             }
            },
            "header": {
             "fill": {
              "color": "#C8D4E3"
             },
             "line": {
              "color": "white"
             }
            },
            "type": "table"
           }
          ]
         },
         "layout": {
          "annotationdefaults": {
           "arrowcolor": "#2a3f5f",
           "arrowhead": 0,
           "arrowwidth": 1
          },
          "autotypenumbers": "strict",
          "coloraxis": {
           "colorbar": {
            "outlinewidth": 0,
            "ticks": ""
           }
          },
          "colorscale": {
           "diverging": [
            [
             0,
             "#8e0152"
            ],
            [
             0.1,
             "#c51b7d"
            ],
            [
             0.2,
             "#de77ae"
            ],
            [
             0.3,
             "#f1b6da"
            ],
            [
             0.4,
             "#fde0ef"
            ],
            [
             0.5,
             "#f7f7f7"
            ],
            [
             0.6,
             "#e6f5d0"
            ],
            [
             0.7,
             "#b8e186"
            ],
            [
             0.8,
             "#7fbc41"
            ],
            [
             0.9,
             "#4d9221"
            ],
            [
             1,
             "#276419"
            ]
           ],
           "sequential": [
            [
             0,
             "#0d0887"
            ],
            [
             0.1111111111111111,
             "#46039f"
            ],
            [
             0.2222222222222222,
             "#7201a8"
            ],
            [
             0.3333333333333333,
             "#9c179e"
            ],
            [
             0.4444444444444444,
             "#bd3786"
            ],
            [
             0.5555555555555556,
             "#d8576b"
            ],
            [
             0.6666666666666666,
             "#ed7953"
            ],
            [
             0.7777777777777778,
             "#fb9f3a"
            ],
            [
             0.8888888888888888,
             "#fdca26"
            ],
            [
             1,
             "#f0f921"
            ]
           ],
           "sequentialminus": [
            [
             0,
             "#0d0887"
            ],
            [
             0.1111111111111111,
             "#46039f"
            ],
            [
             0.2222222222222222,
             "#7201a8"
            ],
            [
             0.3333333333333333,
             "#9c179e"
            ],
            [
             0.4444444444444444,
             "#bd3786"
            ],
            [
             0.5555555555555556,
             "#d8576b"
            ],
            [
             0.6666666666666666,
             "#ed7953"
            ],
            [
             0.7777777777777778,
             "#fb9f3a"
            ],
            [
             0.8888888888888888,
             "#fdca26"
            ],
            [
             1,
             "#f0f921"
            ]
           ]
          },
          "colorway": [
           "#636efa",
           "#EF553B",
           "#00cc96",
           "#ab63fa",
           "#FFA15A",
           "#19d3f3",
           "#FF6692",
           "#B6E880",
           "#FF97FF",
           "#FECB52"
          ],
          "font": {
           "color": "#2a3f5f"
          },
          "geo": {
           "bgcolor": "white",
           "lakecolor": "white",
           "landcolor": "#E5ECF6",
           "showlakes": true,
           "showland": true,
           "subunitcolor": "white"
          },
          "hoverlabel": {
           "align": "left"
          },
          "hovermode": "closest",
          "mapbox": {
           "style": "light"
          },
          "paper_bgcolor": "white",
          "plot_bgcolor": "#E5ECF6",
          "polar": {
           "angularaxis": {
            "gridcolor": "white",
            "linecolor": "white",
            "ticks": ""
           },
           "bgcolor": "#E5ECF6",
           "radialaxis": {
            "gridcolor": "white",
            "linecolor": "white",
            "ticks": ""
           }
          },
          "scene": {
           "xaxis": {
            "backgroundcolor": "#E5ECF6",
            "gridcolor": "white",
            "gridwidth": 2,
            "linecolor": "white",
            "showbackground": true,
            "ticks": "",
            "zerolinecolor": "white"
           },
           "yaxis": {
            "backgroundcolor": "#E5ECF6",
            "gridcolor": "white",
            "gridwidth": 2,
            "linecolor": "white",
            "showbackground": true,
            "ticks": "",
            "zerolinecolor": "white"
           },
           "zaxis": {
            "backgroundcolor": "#E5ECF6",
            "gridcolor": "white",
            "gridwidth": 2,
            "linecolor": "white",
            "showbackground": true,
            "ticks": "",
            "zerolinecolor": "white"
           }
          },
          "shapedefaults": {
           "line": {
            "color": "#2a3f5f"
           }
          },
          "ternary": {
           "aaxis": {
            "gridcolor": "white",
            "linecolor": "white",
            "ticks": ""
           },
           "baxis": {
            "gridcolor": "white",
            "linecolor": "white",
            "ticks": ""
           },
           "bgcolor": "#E5ECF6",
           "caxis": {
            "gridcolor": "white",
            "linecolor": "white",
            "ticks": ""
           }
          },
          "title": {
           "x": 0.05
          },
          "xaxis": {
           "automargin": true,
           "gridcolor": "white",
           "linecolor": "white",
           "ticks": "",
           "title": {
            "standoff": 15
           },
           "zerolinecolor": "white",
           "zerolinewidth": 2
          },
          "yaxis": {
           "automargin": true,
           "gridcolor": "white",
           "linecolor": "white",
           "ticks": "",
           "title": {
            "standoff": 15
           },
           "zerolinecolor": "white",
           "zerolinewidth": 2
          }
         }
        },
        "title": {
         "text": "Accuracy score of each classifiers"
        },
        "xaxis": {
         "anchor": "y",
         "domain": [
          0,
          1
         ],
         "title": {
          "text": "x"
         }
        },
        "yaxis": {
         "anchor": "x",
         "domain": [
          0,
          1
         ],
         "title": {
          "text": "y"
         }
        }
       }
      }
     },
     "metadata": {},
     "output_type": "display_data"
    }
   ],
   "source": [
    "fig = px_bar(list(accuracy_dict_sorted.keys()), list(accuracy_dict_sorted.values()), np.round(list(accuracy_dict_sorted.values()),3), 'Accuracy score of each classifiers', list(accuracy_dict_sorted.keys()), px.colors.sequential.matter)\n",
    "for idx in [2,3]:\n",
    "    fig.data[idx].marker.line.width = 3\n",
    "    fig.data[idx].marker.line.color = \"black\"\n",
    "fig.show()"
   ]
  },
  {
   "cell_type": "code",
   "execution_count": 52,
   "id": "895cb408",
   "metadata": {
    "execution": {
     "iopub.execute_input": "2022-11-23T17:07:24.907827Z",
     "iopub.status.busy": "2022-11-23T17:07:24.906986Z",
     "iopub.status.idle": "2022-11-23T17:07:24.985327Z",
     "shell.execute_reply": "2022-11-23T17:07:24.984436Z"
    },
    "papermill": {
     "duration": 0.103678,
     "end_time": "2022-11-23T17:07:24.987647",
     "exception": false,
     "start_time": "2022-11-23T17:07:24.883969",
     "status": "completed"
    },
    "tags": []
   },
   "outputs": [
    {
     "data": {
      "application/vnd.plotly.v1+json": {
       "config": {
        "plotlyServerURL": "https://plot.ly"
       },
       "data": [
        {
         "alignmentgroup": "True",
         "hovertemplate": "color=Light GBM<br>x=%{x}<br>y=%{y}<br>text=%{text}<extra></extra>",
         "legendgroup": "Light GBM",
         "marker": {
          "color": "rgb(253, 237, 176)",
          "pattern": {
           "shape": ""
          }
         },
         "name": "Light GBM",
         "offsetgroup": "Light GBM",
         "orientation": "v",
         "showlegend": true,
         "text": [
          0.819
         ],
         "textposition": "auto",
         "type": "bar",
         "x": [
          "Light GBM"
         ],
         "xaxis": "x",
         "y": [
          0.818920925564496
         ],
         "yaxis": "y"
        },
        {
         "alignmentgroup": "True",
         "hovertemplate": "color=Random Forest<br>x=%{x}<br>y=%{y}<br>text=%{text}<extra></extra>",
         "legendgroup": "Random Forest",
         "marker": {
          "color": "rgb(250, 205, 145)",
          "pattern": {
           "shape": ""
          }
         },
         "name": "Random Forest",
         "offsetgroup": "Random Forest",
         "orientation": "v",
         "showlegend": true,
         "text": [
          0.979
         ],
         "textposition": "auto",
         "type": "bar",
         "x": [
          "Random Forest"
         ],
         "xaxis": "x",
         "y": [
          0.9789827665798055
         ],
         "yaxis": "y"
        },
        {
         "alignmentgroup": "True",
         "hovertemplate": "color=LR<br>x=%{x}<br>y=%{y}<br>text=%{text}<extra></extra>",
         "legendgroup": "LR",
         "marker": {
          "color": "rgb(246, 173, 119)",
          "line": {
           "color": "black",
           "width": 3
          },
          "pattern": {
           "shape": ""
          }
         },
         "name": "LR",
         "offsetgroup": "LR",
         "orientation": "v",
         "showlegend": true,
         "text": [
          0.984
         ],
         "textposition": "auto",
         "type": "bar",
         "x": [
          "LR"
         ],
         "xaxis": "x",
         "y": [
          0.9837245546932509
         ],
         "yaxis": "y"
        },
        {
         "alignmentgroup": "True",
         "hovertemplate": "color=XGBoost<br>x=%{x}<br>y=%{y}<br>text=%{text}<extra></extra>",
         "legendgroup": "XGBoost",
         "marker": {
          "color": "rgb(240, 142, 98)",
          "line": {
           "color": "black",
           "width": 3
          },
          "pattern": {
           "shape": ""
          }
         },
         "name": "XGBoost",
         "offsetgroup": "XGBoost",
         "orientation": "v",
         "showlegend": true,
         "text": [
          0.998
         ],
         "textposition": "auto",
         "type": "bar",
         "x": [
          "XGBoost"
         ],
         "xaxis": "x",
         "y": [
          0.9984777370793316
         ],
         "yaxis": "y"
        }
       ],
       "layout": {
        "barmode": "relative",
        "legend": {
         "title": {
          "text": "color"
         },
         "tracegroupgap": 0
        },
        "template": {
         "data": {
          "bar": [
           {
            "error_x": {
             "color": "#2a3f5f"
            },
            "error_y": {
             "color": "#2a3f5f"
            },
            "marker": {
             "line": {
              "color": "#E5ECF6",
              "width": 0.5
             },
             "pattern": {
              "fillmode": "overlay",
              "size": 10,
              "solidity": 0.2
             }
            },
            "type": "bar"
           }
          ],
          "barpolar": [
           {
            "marker": {
             "line": {
              "color": "#E5ECF6",
              "width": 0.5
             },
             "pattern": {
              "fillmode": "overlay",
              "size": 10,
              "solidity": 0.2
             }
            },
            "type": "barpolar"
           }
          ],
          "carpet": [
           {
            "aaxis": {
             "endlinecolor": "#2a3f5f",
             "gridcolor": "white",
             "linecolor": "white",
             "minorgridcolor": "white",
             "startlinecolor": "#2a3f5f"
            },
            "baxis": {
             "endlinecolor": "#2a3f5f",
             "gridcolor": "white",
             "linecolor": "white",
             "minorgridcolor": "white",
             "startlinecolor": "#2a3f5f"
            },
            "type": "carpet"
           }
          ],
          "choropleth": [
           {
            "colorbar": {
             "outlinewidth": 0,
             "ticks": ""
            },
            "type": "choropleth"
           }
          ],
          "contour": [
           {
            "colorbar": {
             "outlinewidth": 0,
             "ticks": ""
            },
            "colorscale": [
             [
              0,
              "#0d0887"
             ],
             [
              0.1111111111111111,
              "#46039f"
             ],
             [
              0.2222222222222222,
              "#7201a8"
             ],
             [
              0.3333333333333333,
              "#9c179e"
             ],
             [
              0.4444444444444444,
              "#bd3786"
             ],
             [
              0.5555555555555556,
              "#d8576b"
             ],
             [
              0.6666666666666666,
              "#ed7953"
             ],
             [
              0.7777777777777778,
              "#fb9f3a"
             ],
             [
              0.8888888888888888,
              "#fdca26"
             ],
             [
              1,
              "#f0f921"
             ]
            ],
            "type": "contour"
           }
          ],
          "contourcarpet": [
           {
            "colorbar": {
             "outlinewidth": 0,
             "ticks": ""
            },
            "type": "contourcarpet"
           }
          ],
          "heatmap": [
           {
            "colorbar": {
             "outlinewidth": 0,
             "ticks": ""
            },
            "colorscale": [
             [
              0,
              "#0d0887"
             ],
             [
              0.1111111111111111,
              "#46039f"
             ],
             [
              0.2222222222222222,
              "#7201a8"
             ],
             [
              0.3333333333333333,
              "#9c179e"
             ],
             [
              0.4444444444444444,
              "#bd3786"
             ],
             [
              0.5555555555555556,
              "#d8576b"
             ],
             [
              0.6666666666666666,
              "#ed7953"
             ],
             [
              0.7777777777777778,
              "#fb9f3a"
             ],
             [
              0.8888888888888888,
              "#fdca26"
             ],
             [
              1,
              "#f0f921"
             ]
            ],
            "type": "heatmap"
           }
          ],
          "heatmapgl": [
           {
            "colorbar": {
             "outlinewidth": 0,
             "ticks": ""
            },
            "colorscale": [
             [
              0,
              "#0d0887"
             ],
             [
              0.1111111111111111,
              "#46039f"
             ],
             [
              0.2222222222222222,
              "#7201a8"
             ],
             [
              0.3333333333333333,
              "#9c179e"
             ],
             [
              0.4444444444444444,
              "#bd3786"
             ],
             [
              0.5555555555555556,
              "#d8576b"
             ],
             [
              0.6666666666666666,
              "#ed7953"
             ],
             [
              0.7777777777777778,
              "#fb9f3a"
             ],
             [
              0.8888888888888888,
              "#fdca26"
             ],
             [
              1,
              "#f0f921"
             ]
            ],
            "type": "heatmapgl"
           }
          ],
          "histogram": [
           {
            "marker": {
             "pattern": {
              "fillmode": "overlay",
              "size": 10,
              "solidity": 0.2
             }
            },
            "type": "histogram"
           }
          ],
          "histogram2d": [
           {
            "colorbar": {
             "outlinewidth": 0,
             "ticks": ""
            },
            "colorscale": [
             [
              0,
              "#0d0887"
             ],
             [
              0.1111111111111111,
              "#46039f"
             ],
             [
              0.2222222222222222,
              "#7201a8"
             ],
             [
              0.3333333333333333,
              "#9c179e"
             ],
             [
              0.4444444444444444,
              "#bd3786"
             ],
             [
              0.5555555555555556,
              "#d8576b"
             ],
             [
              0.6666666666666666,
              "#ed7953"
             ],
             [
              0.7777777777777778,
              "#fb9f3a"
             ],
             [
              0.8888888888888888,
              "#fdca26"
             ],
             [
              1,
              "#f0f921"
             ]
            ],
            "type": "histogram2d"
           }
          ],
          "histogram2dcontour": [
           {
            "colorbar": {
             "outlinewidth": 0,
             "ticks": ""
            },
            "colorscale": [
             [
              0,
              "#0d0887"
             ],
             [
              0.1111111111111111,
              "#46039f"
             ],
             [
              0.2222222222222222,
              "#7201a8"
             ],
             [
              0.3333333333333333,
              "#9c179e"
             ],
             [
              0.4444444444444444,
              "#bd3786"
             ],
             [
              0.5555555555555556,
              "#d8576b"
             ],
             [
              0.6666666666666666,
              "#ed7953"
             ],
             [
              0.7777777777777778,
              "#fb9f3a"
             ],
             [
              0.8888888888888888,
              "#fdca26"
             ],
             [
              1,
              "#f0f921"
             ]
            ],
            "type": "histogram2dcontour"
           }
          ],
          "mesh3d": [
           {
            "colorbar": {
             "outlinewidth": 0,
             "ticks": ""
            },
            "type": "mesh3d"
           }
          ],
          "parcoords": [
           {
            "line": {
             "colorbar": {
              "outlinewidth": 0,
              "ticks": ""
             }
            },
            "type": "parcoords"
           }
          ],
          "pie": [
           {
            "automargin": true,
            "type": "pie"
           }
          ],
          "scatter": [
           {
            "fillpattern": {
             "fillmode": "overlay",
             "size": 10,
             "solidity": 0.2
            },
            "type": "scatter"
           }
          ],
          "scatter3d": [
           {
            "line": {
             "colorbar": {
              "outlinewidth": 0,
              "ticks": ""
             }
            },
            "marker": {
             "colorbar": {
              "outlinewidth": 0,
              "ticks": ""
             }
            },
            "type": "scatter3d"
           }
          ],
          "scattercarpet": [
           {
            "marker": {
             "colorbar": {
              "outlinewidth": 0,
              "ticks": ""
             }
            },
            "type": "scattercarpet"
           }
          ],
          "scattergeo": [
           {
            "marker": {
             "colorbar": {
              "outlinewidth": 0,
              "ticks": ""
             }
            },
            "type": "scattergeo"
           }
          ],
          "scattergl": [
           {
            "marker": {
             "colorbar": {
              "outlinewidth": 0,
              "ticks": ""
             }
            },
            "type": "scattergl"
           }
          ],
          "scattermapbox": [
           {
            "marker": {
             "colorbar": {
              "outlinewidth": 0,
              "ticks": ""
             }
            },
            "type": "scattermapbox"
           }
          ],
          "scatterpolar": [
           {
            "marker": {
             "colorbar": {
              "outlinewidth": 0,
              "ticks": ""
             }
            },
            "type": "scatterpolar"
           }
          ],
          "scatterpolargl": [
           {
            "marker": {
             "colorbar": {
              "outlinewidth": 0,
              "ticks": ""
             }
            },
            "type": "scatterpolargl"
           }
          ],
          "scatterternary": [
           {
            "marker": {
             "colorbar": {
              "outlinewidth": 0,
              "ticks": ""
             }
            },
            "type": "scatterternary"
           }
          ],
          "surface": [
           {
            "colorbar": {
             "outlinewidth": 0,
             "ticks": ""
            },
            "colorscale": [
             [
              0,
              "#0d0887"
             ],
             [
              0.1111111111111111,
              "#46039f"
             ],
             [
              0.2222222222222222,
              "#7201a8"
             ],
             [
              0.3333333333333333,
              "#9c179e"
             ],
             [
              0.4444444444444444,
              "#bd3786"
             ],
             [
              0.5555555555555556,
              "#d8576b"
             ],
             [
              0.6666666666666666,
              "#ed7953"
             ],
             [
              0.7777777777777778,
              "#fb9f3a"
             ],
             [
              0.8888888888888888,
              "#fdca26"
             ],
             [
              1,
              "#f0f921"
             ]
            ],
            "type": "surface"
           }
          ],
          "table": [
           {
            "cells": {
             "fill": {
              "color": "#EBF0F8"
             },
             "line": {
              "color": "white"
             }
            },
            "header": {
             "fill": {
              "color": "#C8D4E3"
             },
             "line": {
              "color": "white"
             }
            },
            "type": "table"
           }
          ]
         },
         "layout": {
          "annotationdefaults": {
           "arrowcolor": "#2a3f5f",
           "arrowhead": 0,
           "arrowwidth": 1
          },
          "autotypenumbers": "strict",
          "coloraxis": {
           "colorbar": {
            "outlinewidth": 0,
            "ticks": ""
           }
          },
          "colorscale": {
           "diverging": [
            [
             0,
             "#8e0152"
            ],
            [
             0.1,
             "#c51b7d"
            ],
            [
             0.2,
             "#de77ae"
            ],
            [
             0.3,
             "#f1b6da"
            ],
            [
             0.4,
             "#fde0ef"
            ],
            [
             0.5,
             "#f7f7f7"
            ],
            [
             0.6,
             "#e6f5d0"
            ],
            [
             0.7,
             "#b8e186"
            ],
            [
             0.8,
             "#7fbc41"
            ],
            [
             0.9,
             "#4d9221"
            ],
            [
             1,
             "#276419"
            ]
           ],
           "sequential": [
            [
             0,
             "#0d0887"
            ],
            [
             0.1111111111111111,
             "#46039f"
            ],
            [
             0.2222222222222222,
             "#7201a8"
            ],
            [
             0.3333333333333333,
             "#9c179e"
            ],
            [
             0.4444444444444444,
             "#bd3786"
            ],
            [
             0.5555555555555556,
             "#d8576b"
            ],
            [
             0.6666666666666666,
             "#ed7953"
            ],
            [
             0.7777777777777778,
             "#fb9f3a"
            ],
            [
             0.8888888888888888,
             "#fdca26"
            ],
            [
             1,
             "#f0f921"
            ]
           ],
           "sequentialminus": [
            [
             0,
             "#0d0887"
            ],
            [
             0.1111111111111111,
             "#46039f"
            ],
            [
             0.2222222222222222,
             "#7201a8"
            ],
            [
             0.3333333333333333,
             "#9c179e"
            ],
            [
             0.4444444444444444,
             "#bd3786"
            ],
            [
             0.5555555555555556,
             "#d8576b"
            ],
            [
             0.6666666666666666,
             "#ed7953"
            ],
            [
             0.7777777777777778,
             "#fb9f3a"
            ],
            [
             0.8888888888888888,
             "#fdca26"
            ],
            [
             1,
             "#f0f921"
            ]
           ]
          },
          "colorway": [
           "#636efa",
           "#EF553B",
           "#00cc96",
           "#ab63fa",
           "#FFA15A",
           "#19d3f3",
           "#FF6692",
           "#B6E880",
           "#FF97FF",
           "#FECB52"
          ],
          "font": {
           "color": "#2a3f5f"
          },
          "geo": {
           "bgcolor": "white",
           "lakecolor": "white",
           "landcolor": "#E5ECF6",
           "showlakes": true,
           "showland": true,
           "subunitcolor": "white"
          },
          "hoverlabel": {
           "align": "left"
          },
          "hovermode": "closest",
          "mapbox": {
           "style": "light"
          },
          "paper_bgcolor": "white",
          "plot_bgcolor": "#E5ECF6",
          "polar": {
           "angularaxis": {
            "gridcolor": "white",
            "linecolor": "white",
            "ticks": ""
           },
           "bgcolor": "#E5ECF6",
           "radialaxis": {
            "gridcolor": "white",
            "linecolor": "white",
            "ticks": ""
           }
          },
          "scene": {
           "xaxis": {
            "backgroundcolor": "#E5ECF6",
            "gridcolor": "white",
            "gridwidth": 2,
            "linecolor": "white",
            "showbackground": true,
            "ticks": "",
            "zerolinecolor": "white"
           },
           "yaxis": {
            "backgroundcolor": "#E5ECF6",
            "gridcolor": "white",
            "gridwidth": 2,
            "linecolor": "white",
            "showbackground": true,
            "ticks": "",
            "zerolinecolor": "white"
           },
           "zaxis": {
            "backgroundcolor": "#E5ECF6",
            "gridcolor": "white",
            "gridwidth": 2,
            "linecolor": "white",
            "showbackground": true,
            "ticks": "",
            "zerolinecolor": "white"
           }
          },
          "shapedefaults": {
           "line": {
            "color": "#2a3f5f"
           }
          },
          "ternary": {
           "aaxis": {
            "gridcolor": "white",
            "linecolor": "white",
            "ticks": ""
           },
           "baxis": {
            "gridcolor": "white",
            "linecolor": "white",
            "ticks": ""
           },
           "bgcolor": "#E5ECF6",
           "caxis": {
            "gridcolor": "white",
            "linecolor": "white",
            "ticks": ""
           }
          },
          "title": {
           "x": 0.05
          },
          "xaxis": {
           "automargin": true,
           "gridcolor": "white",
           "linecolor": "white",
           "ticks": "",
           "title": {
            "standoff": 15
           },
           "zerolinecolor": "white",
           "zerolinewidth": 2
          },
          "yaxis": {
           "automargin": true,
           "gridcolor": "white",
           "linecolor": "white",
           "ticks": "",
           "title": {
            "standoff": 15
           },
           "zerolinecolor": "white",
           "zerolinewidth": 2
          }
         }
        },
        "title": {
         "text": "AUC score of each classifiers"
        },
        "xaxis": {
         "anchor": "y",
         "domain": [
          0,
          1
         ],
         "title": {
          "text": "x"
         }
        },
        "yaxis": {
         "anchor": "x",
         "domain": [
          0,
          1
         ],
         "title": {
          "text": "y"
         }
        }
       }
      }
     },
     "metadata": {},
     "output_type": "display_data"
    }
   ],
   "source": [
    "fig = px_bar(list(auc_dict_sorted.keys()), list(auc_dict_sorted.values()), np.round(list(auc_dict_sorted.values()),3), 'AUC score of each classifiers', list(auc_dict_sorted.keys()), px.colors.sequential.matter)\n",
    "\n",
    "for idx in [2,3]:\n",
    "    fig.data[idx].marker.line.width = 3\n",
    "    fig.data[idx].marker.line.color = \"black\"\n",
    "fig.show()"
   ]
  },
  {
   "cell_type": "code",
   "execution_count": 53,
   "id": "63b3a7c1",
   "metadata": {
    "execution": {
     "iopub.execute_input": "2022-11-23T17:07:25.118268Z",
     "iopub.status.busy": "2022-11-23T17:07:25.117053Z",
     "iopub.status.idle": "2022-11-23T17:08:31.868562Z",
     "shell.execute_reply": "2022-11-23T17:08:31.867165Z"
    },
    "papermill": {
     "duration": 66.777768,
     "end_time": "2022-11-23T17:08:31.871781",
     "exception": false,
     "start_time": "2022-11-23T17:07:25.094013",
     "status": "completed"
    },
    "tags": []
   },
   "outputs": [],
   "source": [
    "rfc=RandomForestClassifier(n_estimators = 15, n_jobs = -1, random_state = 42)\n",
    "rfc.fit(X_train, y_train)\n",
    "\n",
    "rfc_pred = rfc.predict(X_test)\n",
    "rfc_pred_proba = rfc.predict_proba(X_test)[:,1]"
   ]
  },
  {
   "cell_type": "code",
   "execution_count": 54,
   "id": "babe8043",
   "metadata": {
    "execution": {
     "iopub.execute_input": "2022-11-23T17:08:31.960810Z",
     "iopub.status.busy": "2022-11-23T17:08:31.960401Z",
     "iopub.status.idle": "2022-11-23T17:08:35.533894Z",
     "shell.execute_reply": "2022-11-23T17:08:35.532776Z"
    },
    "papermill": {
     "duration": 3.601202,
     "end_time": "2022-11-23T17:08:35.537723",
     "exception": false,
     "start_time": "2022-11-23T17:08:31.936521",
     "status": "completed"
    },
    "tags": []
   },
   "outputs": [
    {
     "name": "stdout",
     "output_type": "stream",
     "text": [
      "              precision    recall  f1-score   support\n",
      "\n",
      "   Not Fraud       1.00      1.00      1.00   1906322\n",
      "       Fraud       0.96      0.80      0.87      2464\n",
      "\n",
      "    accuracy                           1.00   1908786\n",
      "   macro avg       0.98      0.90      0.94   1908786\n",
      "weighted avg       1.00      1.00      1.00   1908786\n",
      "\n"
     ]
    }
   ],
   "source": [
    "print(classification_report(y_test, rfc_pred, target_names=['Not Fraud','Fraud']))"
   ]
  },
  {
   "cell_type": "code",
   "execution_count": 55,
   "id": "c72836cc",
   "metadata": {
    "execution": {
     "iopub.execute_input": "2022-11-23T17:08:35.627275Z",
     "iopub.status.busy": "2022-11-23T17:08:35.626849Z",
     "iopub.status.idle": "2022-11-23T17:08:36.462983Z",
     "shell.execute_reply": "2022-11-23T17:08:36.461612Z"
    },
    "papermill": {
     "duration": 0.861985,
     "end_time": "2022-11-23T17:08:36.465421",
     "exception": false,
     "start_time": "2022-11-23T17:08:35.603436",
     "status": "completed"
    },
    "tags": []
   },
   "outputs": [
    {
     "data": {
      "text/plain": [
       "<matplotlib.legend.Legend at 0x15d0bff70>"
      ]
     },
     "execution_count": 55,
     "metadata": {},
     "output_type": "execute_result"
    },
    {
     "data": {
      "image/png": "[encoded data removed]",
      "text/plain": [
       "<Figure size 1500x700 with 1 Axes>"
      ]
     },
     "metadata": {},
     "output_type": "display_data"
    }
   ],
   "source": [
    "fpr, tpr, temp = roc_curve(y_test, rfc_pred_proba)\n",
    "auc = round(roc_auc_score(y_test, rfc_pred_proba),3)\n",
    "plt.figure(figsize=(15,7))\n",
    "plt.plot(fpr,tpr,label='Random Forest Classifier, AUC='+str(auc),linestyle='solid',color='#800000')\n",
    "plt.plot([0, 1], [0, 1], color = 'g')\n",
    "plt.title('ROC Curve')\n",
    "plt.legend(loc='upper right')"
   ]
  }
 ],
 "metadata": {
  "kernelspec": {
   "display_name": "Python 3",
   "language": "python",
   "name": "python3"
  },
  "language_info": {
   "codemirror_mode": {
    "name": "ipython",
    "version": 3
   },
   "file_extension": ".py",
   "mimetype": "text/x-python",
   "name": "python",
   "nbconvert_exporter": "python",
   "pygments_lexer": "ipython3",
   "version": "3.10.8"
  },
  "papermill": {
   "default_parameters": {},
   "duration": 498.55604,
   "end_time": "2022-11-23T17:08:38.203891",
   "environment_variables": {},
   "exception": null,
   "input_path": "__notebook__.ipynb",
   "output_path": "__notebook__.ipynb",
   "parameters": {},
   "start_time": "2022-11-23T17:00:19.647851",
   "version": "2.3.4"
  }
 },
 "nbformat": 4,
 "nbformat_minor": 5
}
