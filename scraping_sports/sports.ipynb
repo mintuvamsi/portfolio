{
 "cells": [
  {
   "cell_type": "code",
   "execution_count": 2,
   "metadata": {},
   "outputs": [
    {
     "name": "stdout",
     "output_type": "stream",
     "text": [
      "[]\n",
      "[]\n"
     ]
    }
   ],
   "source": [
    "from bs4 import BeautifulSoup\n",
    "import requests\n",
    "import re\n",
    "import pandas as pd\n",
    "\n",
    "url = \"http://www.espn.com/nhl/statistics/player/_/stat/points/year/2020/seasontype/2\"\n",
    "\n",
    "page = requests.get(url)\n",
    "\n",
    "soup = BeautifulSoup(page.text, 'html.parser')\n",
    "\n",
    "allStats = []\n",
    "players = soup.find_all('tr', attrs={'class':re.compile('row player')})\n",
    "for player in players:\n",
    "    stats = [stat.get_text() for stat in player.find_all('td')]\n",
    "    allStats += stats\n",
    "body = soup.find_all('div', {\"class\":\"wrapper\"})\n",
    "\n",
    "print(allStats)\n",
    "\n",
    "allColumns = []\n",
    "headers = soup.find_all('tr', attrs = {'class': 'colhead'})\n",
    "for col in headers:\n",
    "    columns = [col.get_text() for col in headers.find_all('td')]\n",
    "    allColumns += columns\n",
    "\n",
    "print(allColumns)"
   ]
  },
  {
   "cell_type": "code",
   "execution_count": null,
   "metadata": {},
   "outputs": [],
   "source": []
  }
 ],
 "metadata": {
  "kernelspec": {
   "display_name": "wydo",
   "language": "python",
   "name": "python3"
  },
  "language_info": {
   "codemirror_mode": {
    "name": "ipython",
    "version": 3
   },
   "file_extension": ".py",
   "mimetype": "text/x-python",
   "name": "python",
   "nbconvert_exporter": "python",
   "pygments_lexer": "ipython3",
   "version": "3.10.8"
  }
 },
 "nbformat": 4,
 "nbformat_minor": 2
}
