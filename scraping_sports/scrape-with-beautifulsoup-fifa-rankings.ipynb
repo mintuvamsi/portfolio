{
 "cells": [
  {
   "cell_type": "code",
   "execution_count": 1,
   "metadata": {
    "_cell_guid": "b1076dfc-b9ad-4769-8c92-a6c4dae69d19",
    "_uuid": "8f2839f25d086af736a60e9eeb907d3b93b6e0e5",
    "execution": {
     "iopub.execute_input": "2020-11-18T03:42:12.633209Z",
     "iopub.status.busy": "2020-11-18T03:42:12.632207Z",
     "iopub.status.idle": "2020-11-18T03:42:12.635386Z",
     "shell.execute_reply": "2020-11-18T03:42:12.634752Z"
    },
    "papermill": {
     "duration": 0.022495,
     "end_time": "2020-11-18T03:42:12.635530",
     "exception": false,
     "start_time": "2020-11-18T03:42:12.613035",
     "status": "completed"
    },
    "tags": []
   },
   "outputs": [],
   "source": [
    "# This Python 3 environment comes with many helpful analytics libraries installed\n",
    "# It is defined by the kaggle/python Docker image: https://github.com/kaggle/docker-python\n",
    "# For example, here's several helpful packages to load\n",
    "\n",
    "import numpy as np # linear algebra\n",
    "import pandas as pd # data processing, CSV file I/O (e.g. pd.read_csv)\n",
    "\n",
    "# Input data files are available in the read-only \"../input/\" directory\n",
    "# For example, running this (by clicking run or pressing Shift+Enter) will list all files under the input directory\n",
    "\n",
    "import os\n",
    "for dirname, _, filenames in os.walk('/kaggle/input'):\n",
    "    for filename in filenames:\n",
    "        print(os.path.join(dirname, filename))\n",
    "\n",
    "# You can write up to 20GB to the current directory (/kaggle/working/) that gets preserved as output when you create a version using \"Save & Run All\" \n",
    "# You can also write temporary files to /kaggle/temp/, but they won't be saved outside of the current session"
   ]
  },
  {
   "cell_type": "code",
   "execution_count": 2,
   "metadata": {
    "_cell_guid": "79c7e3d0-c299-4dcb-8224-4455121ee9b0",
    "_uuid": "d629ff2d2480ee46fbb7e2d37f6b5fab8052498a",
    "execution": {
     "iopub.execute_input": "2020-11-18T03:42:12.665987Z",
     "iopub.status.busy": "2020-11-18T03:42:12.665137Z",
     "iopub.status.idle": "2020-11-18T03:42:12.954730Z",
     "shell.execute_reply": "2020-11-18T03:42:12.954072Z"
    },
    "papermill": {
     "duration": 0.306132,
     "end_time": "2020-11-18T03:42:12.954853",
     "exception": false,
     "start_time": "2020-11-18T03:42:12.648721",
     "status": "completed"
    },
    "tags": []
   },
   "outputs": [],
   "source": [
    "\"\"\"Beautiful Soup is a library that makes it easy to scrape information from web pages.\"\"\"\n",
    "from bs4 import BeautifulSoup \n",
    "\n",
    "# Requests allows you to send HTTP/1.1 requests extremely easily.\n",
    "import requests   \n",
    "import time\n",
    "import csv\n"
   ]
  },
  {
   "cell_type": "code",
   "execution_count": 3,
   "metadata": {
    "execution": {
     "iopub.execute_input": "2020-11-18T03:42:12.984681Z",
     "iopub.status.busy": "2020-11-18T03:42:12.983553Z",
     "iopub.status.idle": "2020-11-18T03:42:13.358528Z",
     "shell.execute_reply": "2020-11-18T03:42:13.357736Z"
    },
    "papermill": {
     "duration": 0.392512,
     "end_time": "2020-11-18T03:42:13.358667",
     "exception": false,
     "start_time": "2020-11-18T03:42:12.966155",
     "status": "completed"
    },
    "tags": []
   },
   "outputs": [],
   "source": [
    "url = 'https://www.fifa.com/fifa-world-ranking/ranking-table/men/'\n",
    "headers = {\"User-Agent\": 'Mozilla/5.0 (Windows NT 10.0; Win64; x64) AppleWebKit/537.36 (KHTML, like Gecko) Chrome/76.0.3809.132 Safari/537.36'}\n",
    "page = requests.get(url, headers = headers)"
   ]
  },
  {
   "cell_type": "code",
   "execution_count": 4,
   "metadata": {
    "execution": {
     "iopub.execute_input": "2020-11-18T03:42:13.401212Z",
     "iopub.status.busy": "2020-11-18T03:42:13.394676Z",
     "iopub.status.idle": "2020-11-18T03:42:13.853114Z",
     "shell.execute_reply": "2020-11-18T03:42:13.852354Z"
    },
    "papermill": {
     "duration": 0.483501,
     "end_time": "2020-11-18T03:42:13.853237",
     "exception": false,
     "start_time": "2020-11-18T03:42:13.369736",
     "status": "completed"
    },
    "tags": []
   },
   "outputs": [
    {
     "data": {
      "text/plain": [
       "307"
      ]
     },
     "execution_count": 4,
     "metadata": {},
     "output_type": "execute_result"
    }
   ],
   "source": [
    "soup = BeautifulSoup(page.content, 'html.parser')\n",
    "ranking_schedule_dropdown_menu = soup.find('ul' , attrs = {'class': 'fi-ranking-schedule__nav dropdown-menu'}).find_all('li')\n",
    "len(ranking_schedule_dropdown_menu)"
   ]
  },
  {
   "cell_type": "code",
   "execution_count": 5,
   "metadata": {
    "collapsed": true,
    "execution": {
     "iopub.execute_input": "2020-11-18T03:42:13.883309Z",
     "iopub.status.busy": "2020-11-18T03:42:13.882328Z",
     "iopub.status.idle": "2020-11-18T03:42:13.887055Z",
     "shell.execute_reply": "2020-11-18T03:42:13.886315Z"
    },
    "papermill": {
     "duration": 0.022048,
     "end_time": "2020-11-18T03:42:13.887179",
     "exception": false,
     "start_time": "2020-11-18T03:42:13.865131",
     "status": "completed"
    },
    "tags": []
   },
   "outputs": [
    {
     "data": {
      "text/plain": [
       "<li class=\"fi-ranking-schedule__nav__item\" data-value=\"id13078\">\n",
       "<a href=\"/fifa-world-ranking/ranking-table/men/rank/id13078/\">22 October 2020</a>\n",
       "</li>"
      ]
     },
     "execution_count": 5,
     "metadata": {},
     "output_type": "execute_result"
    }
   ],
   "source": [
    "ranking_schedule_dropdown_menu[0]  \n",
    "# first element in the ranking_schedule_dropdown_menu list\n"
   ]
  },
  {
   "cell_type": "code",
   "execution_count": 6,
   "metadata": {
    "execution": {
     "iopub.execute_input": "2020-11-18T03:42:13.921323Z",
     "iopub.status.busy": "2020-11-18T03:42:13.920494Z",
     "iopub.status.idle": "2020-11-18T03:42:13.924709Z",
     "shell.execute_reply": "2020-11-18T03:42:13.925365Z"
    },
    "papermill": {
     "duration": 0.026208,
     "end_time": "2020-11-18T03:42:13.925518",
     "exception": false,
     "start_time": "2020-11-18T03:42:13.899310",
     "status": "completed"
    },
    "tags": []
   },
   "outputs": [
    {
     "name": "stdout",
     "output_type": "stream",
     "text": [
      "/fifa-world-ranking/ranking-table/men/rank/id13078/\n",
      "22 October 2020\n",
      "/fifa-world-ranking/ranking-table/men/rank/id13043/\n",
      "17 September 2020\n",
      "/fifa-world-ranking/ranking-table/men/rank/id12884/\n",
      "16 July 2020\n"
     ]
    }
   ],
   "source": [
    "# We need to extract url from the above <li> element so that we can make requests for \n",
    "# any particular date \n",
    "\n",
    "#For example,to make a request for 22nd October 2020, the url will be\n",
    "# url = 'https://www.fifa.com' + ranking_schedule_dropdown_menu[0].find('a').get('href')\n",
    "\n",
    "#Similarly, for 17th September 2020, the request url will be\n",
    "# url = 'https://www.fifa.com' + ranking_schedule_dropdown_menu[1].find('a').get('href') and so on.\n",
    "\n",
    "print(ranking_schedule_dropdown_menu[0].find('a').get('href'))\n",
    "print(ranking_schedule_dropdown_menu[0].get_text().strip('\\n'))\n",
    "\n",
    "print(ranking_schedule_dropdown_menu[1].find('a').get('href'))\n",
    "print(ranking_schedule_dropdown_menu[1].get_text().strip('\\n'))\n",
    "\n",
    "print(ranking_schedule_dropdown_menu[2].find('a').get('href'))\n",
    "print(ranking_schedule_dropdown_menu[2].get_text().strip('\\n'))\n",
    "\n",
    "# So, you can clearly see we need to iterate to construct request url as we try to fetch the table data\n",
    "# available from 1992 - till date\n"
   ]
  },
  {
   "cell_type": "code",
   "execution_count": 7,
   "metadata": {
    "collapsed": true,
    "execution": {
     "iopub.execute_input": "2020-11-18T03:42:13.974877Z",
     "iopub.status.busy": "2020-11-18T03:42:13.969716Z",
     "iopub.status.idle": "2020-11-18T03:42:13.986305Z",
     "shell.execute_reply": "2020-11-18T03:42:13.985688Z"
    },
    "papermill": {
     "duration": 0.048231,
     "end_time": "2020-11-18T03:42:13.986432",
     "exception": false,
     "start_time": "2020-11-18T03:42:13.938201",
     "status": "completed"
    },
    "tags": []
   },
   "outputs": [
    {
     "data": {
      "text/plain": [
       "[<th class=\"fi-table__th fi-table__rank\"><div class=\"fi-table__th__wrap\"> <span class=\"th-text\">\n",
       "     Rnk\n",
       "   </span>\n",
       " <span class=\"arrows\"></span>\n",
       " </div></th>,\n",
       " <th class=\"fi-table__th fi-table__teamname\"><div class=\"fi-table__th__wrap\"> <span class=\"th-text\">\n",
       "     Team\n",
       "   </span>\n",
       " <span class=\"th-text-abbr\">\n",
       " <abbr title=\"Team\">Team</abbr>\n",
       " </span>\n",
       " <span class=\"arrows\"></span>\n",
       " </div></th>,\n",
       " <th class=\"fi-table__th fi-table__points\"><div class=\"fi-table__th__wrap\"> <span class=\"th-text\">\n",
       "     Total Points\n",
       "   </span>\n",
       " <span class=\"th-text-abbr\">\n",
       " <abbr title=\"Total Points\">PTS</abbr>\n",
       " </span>\n",
       " <span class=\"arrows\"></span>\n",
       " </div></th>,\n",
       " <th class=\"fi-table__th fi-table__prevpoints\"><div class=\"fi-table__th__wrap\"> <span class=\"th-text\">\n",
       "     Previous Points\n",
       "   </span>\n",
       " <span class=\"th-text-abbr\">\n",
       " <abbr title=\"Previous Points\">Prev.Pts</abbr>\n",
       " </span>\n",
       " <span class=\"arrows\"></span>\n",
       " </div></th>,\n",
       " <th class=\"fi-table__th fi-table__rankingmovement\"><div class=\"fi-table__th__wrap\"> <span class=\"th-text\">\n",
       "     +/-\n",
       "   </span>\n",
       " <span class=\"arrows\"></span>\n",
       " </div></th>,\n",
       " <th class=\"fi-table__th fi-table__positions\"><div class=\"fi-table__th__wrap\"> <span class=\"th-text\">\n",
       "     Positions\n",
       "   </span>\n",
       " <span class=\"th-text-abbr\">\n",
       " <abbr title=\"Positions\">Pos</abbr>\n",
       " </span>\n",
       " <span class=\"arrows\"></span>\n",
       " </div></th>,\n",
       " <th class=\"fi-table__th fi-table__confederation hidden\"><div class=\"fi-table__th__wrap\"> <span class=\"th-text\">\n",
       "     Confederations\n",
       "   </span>\n",
       " <span class=\"th-text-abbr\">\n",
       " <abbr title=\"Confederations\">fifa_TBT</abbr>\n",
       " </span>\n",
       " <span class=\"arrows\"></span>\n",
       " </div></th>]"
      ]
     },
     "execution_count": 7,
     "metadata": {},
     "output_type": "execute_result"
    }
   ],
   "source": [
    "table = soup.find('table', attrs = {'id':'rank-table'})\n",
    "table.find_all('th')  # Table Headers"
   ]
  },
  {
   "cell_type": "code",
   "execution_count": 8,
   "metadata": {
    "execution": {
     "iopub.execute_input": "2020-11-18T03:42:14.020528Z",
     "iopub.status.busy": "2020-11-18T03:42:14.019607Z",
     "iopub.status.idle": "2020-11-18T03:42:14.022979Z",
     "shell.execute_reply": "2020-11-18T03:42:14.022230Z"
    },
    "papermill": {
     "duration": 0.022888,
     "end_time": "2020-11-18T03:42:14.023107",
     "exception": false,
     "start_time": "2020-11-18T03:42:14.000219",
     "status": "completed"
    },
    "tags": []
   },
   "outputs": [],
   "source": [
    "rows = []\n",
    "rows.append(['Rank', 'Team', 'PTS', 'Prev.Pts', 'Change (+/-)', 'Date'])  # Table Headers"
   ]
  },
  {
   "cell_type": "code",
   "execution_count": 9,
   "metadata": {
    "execution": {
     "iopub.execute_input": "2020-11-18T03:42:14.064014Z",
     "iopub.status.busy": "2020-11-18T03:42:14.058710Z",
     "iopub.status.idle": "2020-11-18T03:42:14.076792Z",
     "shell.execute_reply": "2020-11-18T03:42:14.076103Z"
    },
    "papermill": {
     "duration": 0.040153,
     "end_time": "2020-11-18T03:42:14.076951",
     "exception": false,
     "start_time": "2020-11-18T03:42:14.036798",
     "status": "completed"
    },
    "tags": []
   },
   "outputs": [
    {
     "name": "stdout",
     "output_type": "stream",
     "text": [
      "211\n",
      "1\n",
      "Belgium\n",
      "1765\n",
      "1773\n",
      "0\n",
      "22 October 2020\n"
     ]
    }
   ],
   "source": [
    "# for 22nd October 2020\n",
    "\n",
    "results = table.find_all('tr')\n",
    "print(len(results))  # ( 210 Countries Data Rows + 1 Header Row) <-- 211\n",
    "\n",
    "results[0]  # The very first row contains Table Headers\n",
    "results[1].find_all('td')  # Table Data\n",
    "print(results[1].find_all('td')[0].get_text())   # Rank\n",
    "print(results[1].find_all('div')[2].find_all('span')[0].get_text()) # Team (Country)\n",
    "print(results[1].find_all('td')[2].get_text())  # PTS\n",
    "print(results[1].find_all('td')[3].get_text())  # Prev.Pts\n",
    "print(results[1].find_all('td')[4].get_text())  #Change\n",
    "print(ranking_schedule_dropdown_menu[0].get_text().strip('\\n'))  # Date"
   ]
  },
  {
   "cell_type": "code",
   "execution_count": 10,
   "metadata": {
    "execution": {
     "iopub.execute_input": "2020-11-18T03:42:14.119402Z",
     "iopub.status.busy": "2020-11-18T03:42:14.114033Z",
     "iopub.status.idle": "2020-11-18T03:45:55.513231Z",
     "shell.execute_reply": "2020-11-18T03:45:55.512542Z"
    },
    "papermill": {
     "duration": 221.422145,
     "end_time": "2020-11-18T03:45:55.513390",
     "exception": false,
     "start_time": "2020-11-18T03:42:14.091245",
     "status": "completed"
    },
    "tags": []
   },
   "outputs": [],
   "source": [
    "for i in range(0, len(ranking_schedule_dropdown_menu)):\n",
    "    url = 'https://www.fifa.com' + ranking_schedule_dropdown_menu[i].find('a').get('href')\n",
    "    date = ranking_schedule_dropdown_menu[i].get_text().strip('\\n')\n",
    "    page = requests.get(url, headers = headers)\n",
    "    table = soup.find('table', attrs = {'id':'rank-table'})\n",
    "    results = table.find_all('tr')\n",
    "    for result in results:\n",
    "        data = result.find_all('td')\n",
    "        if len(data) == 0:\n",
    "            continue\n",
    "        rank = data[0].get_text()\n",
    "        team = data[1].find_all('div')[2].find_all('span')[0].get_text()\n",
    "        points = data[2].get_text()\n",
    "        prev_points = data[3].get_text()\n",
    "        change = data[4].get_text()\n",
    "        rows.append([rank, team, points, prev_points, change, date])\n",
    "# rows\n"
   ]
  },
  {
   "cell_type": "code",
   "execution_count": 11,
   "metadata": {
    "execution": {
     "iopub.execute_input": "2020-11-18T03:45:55.548512Z",
     "iopub.status.busy": "2020-11-18T03:45:55.547553Z",
     "iopub.status.idle": "2020-11-18T03:45:55.552153Z",
     "shell.execute_reply": "2020-11-18T03:45:55.552681Z"
    },
    "papermill": {
     "duration": 0.024562,
     "end_time": "2020-11-18T03:45:55.552842",
     "exception": false,
     "start_time": "2020-11-18T03:45:55.528280",
     "status": "completed"
    },
    "tags": []
   },
   "outputs": [
    {
     "data": {
      "text/plain": [
       "64471"
      ]
     },
     "execution_count": 11,
     "metadata": {},
     "output_type": "execute_result"
    }
   ],
   "source": [
    "len(rows)"
   ]
  },
  {
   "cell_type": "code",
   "execution_count": 12,
   "metadata": {
    "execution": {
     "iopub.execute_input": "2020-11-18T03:45:55.589422Z",
     "iopub.status.busy": "2020-11-18T03:45:55.588228Z",
     "iopub.status.idle": "2020-11-18T03:45:55.746515Z",
     "shell.execute_reply": "2020-11-18T03:45:55.745827Z"
    },
    "papermill": {
     "duration": 0.178752,
     "end_time": "2020-11-18T03:45:55.746654",
     "exception": false,
     "start_time": "2020-11-18T03:45:55.567902",
     "status": "completed"
    },
    "tags": []
   },
   "outputs": [],
   "source": [
    "\n",
    "# Writing in a .csv file\n",
    "with open('fifa_2020_Country_Rankings_Men_1992_2020.csv','w', encoding=\"utf-8\", newline=\"\") as f_output:\n",
    "    csv_output = csv.writer(f_output)\n",
    "    csv_output.writerows(rows)"
   ]
  }
 ],
 "metadata": {
  "kernelspec": {
   "display_name": "Python 3",
   "language": "python",
   "name": "python3"
  },
  "language_info": {
   "codemirror_mode": {
    "name": "ipython",
    "version": 3
   },
   "file_extension": ".py",
   "mimetype": "text/x-python",
   "name": "python",
   "nbconvert_exporter": "python",
   "pygments_lexer": "ipython3",
   "version": "3.7.6"
  },
  "papermill": {
   "duration": 228.115896,
   "end_time": "2020-11-18T03:45:55.873752",
   "environment_variables": {},
   "exception": null,
   "input_path": "__notebook__.ipynb",
   "output_path": "__notebook__.ipynb",
   "parameters": {},
   "start_time": "2020-11-18T03:42:07.757856",
   "version": "2.1.0"
  }
 },
 "nbformat": 4,
 "nbformat_minor": 4
}
