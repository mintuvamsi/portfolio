{
 "cells": [
  {
   "cell_type": "code",
   "execution_count": 22,
   "metadata": {},
   "outputs": [],
   "source": [
    "import pandas as pd\n",
    "\n",
    "# Load raw CSV data\n",
    "transactions = pd.read_excel(\"bank.xlsx\")\n"
   ]
  },
  {
   "cell_type": "code",
   "execution_count": 23,
   "metadata": {},
   "outputs": [
    {
     "data": {
      "text/html": [
       "<div>\n",
       "<style scoped>\n",
       "    .dataframe tbody tr th:only-of-type {\n",
       "        vertical-align: middle;\n",
       "    }\n",
       "\n",
       "    .dataframe tbody tr th {\n",
       "        vertical-align: top;\n",
       "    }\n",
       "\n",
       "    .dataframe thead th {\n",
       "        text-align: right;\n",
       "    }\n",
       "</style>\n",
       "<table border=\"1\" class=\"dataframe\">\n",
       "  <thead>\n",
       "    <tr style=\"text-align: right;\">\n",
       "      <th></th>\n",
       "      <th>Account No</th>\n",
       "      <th>DATE</th>\n",
       "      <th>TRANSACTION DETAILS</th>\n",
       "      <th>CHQ.NO.</th>\n",
       "      <th>VALUE DATE</th>\n",
       "      <th>WITHDRAWAL AMT</th>\n",
       "      <th>DEPOSIT AMT</th>\n",
       "      <th>BALANCE AMT</th>\n",
       "      <th>.</th>\n",
       "    </tr>\n",
       "  </thead>\n",
       "  <tbody>\n",
       "    <tr>\n",
       "      <th>0</th>\n",
       "      <td>409000611074'</td>\n",
       "      <td>2017-06-29</td>\n",
       "      <td>TRF FROM  Indiaforensic SERVICES</td>\n",
       "      <td>NaN</td>\n",
       "      <td>2017-06-29</td>\n",
       "      <td>NaN</td>\n",
       "      <td>1000000.0</td>\n",
       "      <td>1.000000e+06</td>\n",
       "      <td>.</td>\n",
       "    </tr>\n",
       "    <tr>\n",
       "      <th>1</th>\n",
       "      <td>409000611074'</td>\n",
       "      <td>2017-07-05</td>\n",
       "      <td>TRF FROM  Indiaforensic SERVICES</td>\n",
       "      <td>NaN</td>\n",
       "      <td>2017-07-05</td>\n",
       "      <td>NaN</td>\n",
       "      <td>1000000.0</td>\n",
       "      <td>2.000000e+06</td>\n",
       "      <td>.</td>\n",
       "    </tr>\n",
       "    <tr>\n",
       "      <th>2</th>\n",
       "      <td>409000611074'</td>\n",
       "      <td>2017-07-18</td>\n",
       "      <td>FDRL/INTERNAL FUND TRANSFE</td>\n",
       "      <td>NaN</td>\n",
       "      <td>2017-07-18</td>\n",
       "      <td>NaN</td>\n",
       "      <td>500000.0</td>\n",
       "      <td>2.500000e+06</td>\n",
       "      <td>.</td>\n",
       "    </tr>\n",
       "    <tr>\n",
       "      <th>3</th>\n",
       "      <td>409000611074'</td>\n",
       "      <td>2017-08-01</td>\n",
       "      <td>TRF FRM  Indiaforensic SERVICES</td>\n",
       "      <td>NaN</td>\n",
       "      <td>2017-08-01</td>\n",
       "      <td>NaN</td>\n",
       "      <td>3000000.0</td>\n",
       "      <td>5.500000e+06</td>\n",
       "      <td>.</td>\n",
       "    </tr>\n",
       "    <tr>\n",
       "      <th>4</th>\n",
       "      <td>409000611074'</td>\n",
       "      <td>2017-08-16</td>\n",
       "      <td>FDRL/INTERNAL FUND TRANSFE</td>\n",
       "      <td>NaN</td>\n",
       "      <td>2017-08-16</td>\n",
       "      <td>NaN</td>\n",
       "      <td>500000.0</td>\n",
       "      <td>6.000000e+06</td>\n",
       "      <td>.</td>\n",
       "    </tr>\n",
       "    <tr>\n",
       "      <th>...</th>\n",
       "      <td>...</td>\n",
       "      <td>...</td>\n",
       "      <td>...</td>\n",
       "      <td>...</td>\n",
       "      <td>...</td>\n",
       "      <td>...</td>\n",
       "      <td>...</td>\n",
       "      <td>...</td>\n",
       "      <td>...</td>\n",
       "    </tr>\n",
       "    <tr>\n",
       "      <th>116196</th>\n",
       "      <td>409000362497'</td>\n",
       "      <td>2019-03-05</td>\n",
       "      <td>TRF TO 1196428  Indiaforensic SE</td>\n",
       "      <td>NaN</td>\n",
       "      <td>2019-03-05</td>\n",
       "      <td>117934.30</td>\n",
       "      <td>NaN</td>\n",
       "      <td>-1.901902e+09</td>\n",
       "      <td>.</td>\n",
       "    </tr>\n",
       "    <tr>\n",
       "      <th>116197</th>\n",
       "      <td>409000362497'</td>\n",
       "      <td>2019-03-05</td>\n",
       "      <td>FDRL/INTERNAL FUND TRANSFE</td>\n",
       "      <td>NaN</td>\n",
       "      <td>2019-03-05</td>\n",
       "      <td>NaN</td>\n",
       "      <td>300000.0</td>\n",
       "      <td>-1.901602e+09</td>\n",
       "      <td>.</td>\n",
       "    </tr>\n",
       "    <tr>\n",
       "      <th>116198</th>\n",
       "      <td>409000362497'</td>\n",
       "      <td>2019-03-05</td>\n",
       "      <td>FDRL/INTERNAL FUND TRANSFE</td>\n",
       "      <td>NaN</td>\n",
       "      <td>2019-03-05</td>\n",
       "      <td>NaN</td>\n",
       "      <td>300000.0</td>\n",
       "      <td>-1.901302e+09</td>\n",
       "      <td>.</td>\n",
       "    </tr>\n",
       "    <tr>\n",
       "      <th>116199</th>\n",
       "      <td>409000362497'</td>\n",
       "      <td>2019-03-05</td>\n",
       "      <td>IMPS 05-03-20194C</td>\n",
       "      <td>NaN</td>\n",
       "      <td>2019-03-05</td>\n",
       "      <td>109868.65</td>\n",
       "      <td>NaN</td>\n",
       "      <td>-1.901412e+09</td>\n",
       "      <td>.</td>\n",
       "    </tr>\n",
       "    <tr>\n",
       "      <th>116200</th>\n",
       "      <td>409000362497'</td>\n",
       "      <td>2019-03-05</td>\n",
       "      <td>Sweep Trf To: 40900036427</td>\n",
       "      <td>NaN</td>\n",
       "      <td>2019-03-05</td>\n",
       "      <td>5000.00</td>\n",
       "      <td>NaN</td>\n",
       "      <td>-1.901417e+09</td>\n",
       "      <td>.</td>\n",
       "    </tr>\n",
       "  </tbody>\n",
       "</table>\n",
       "<p>116201 rows × 9 columns</p>\n",
       "</div>"
      ],
      "text/plain": [
       "           Account No       DATE               TRANSACTION DETAILS  CHQ.NO.  \\\n",
       "0       409000611074' 2017-06-29  TRF FROM  Indiaforensic SERVICES      NaN   \n",
       "1       409000611074' 2017-07-05  TRF FROM  Indiaforensic SERVICES      NaN   \n",
       "2       409000611074' 2017-07-18        FDRL/INTERNAL FUND TRANSFE      NaN   \n",
       "3       409000611074' 2017-08-01   TRF FRM  Indiaforensic SERVICES      NaN   \n",
       "4       409000611074' 2017-08-16        FDRL/INTERNAL FUND TRANSFE      NaN   \n",
       "...               ...        ...                               ...      ...   \n",
       "116196  409000362497' 2019-03-05  TRF TO 1196428  Indiaforensic SE      NaN   \n",
       "116197  409000362497' 2019-03-05        FDRL/INTERNAL FUND TRANSFE      NaN   \n",
       "116198  409000362497' 2019-03-05        FDRL/INTERNAL FUND TRANSFE      NaN   \n",
       "116199  409000362497' 2019-03-05                 IMPS 05-03-20194C      NaN   \n",
       "116200  409000362497' 2019-03-05         Sweep Trf To: 40900036427      NaN   \n",
       "\n",
       "       VALUE DATE  WITHDRAWAL AMT  DEPOSIT AMT   BALANCE AMT  .  \n",
       "0      2017-06-29             NaN    1000000.0  1.000000e+06  .  \n",
       "1      2017-07-05             NaN    1000000.0  2.000000e+06  .  \n",
       "2      2017-07-18             NaN     500000.0  2.500000e+06  .  \n",
       "3      2017-08-01             NaN    3000000.0  5.500000e+06  .  \n",
       "4      2017-08-16             NaN     500000.0  6.000000e+06  .  \n",
       "...           ...             ...          ...           ... ..  \n",
       "116196 2019-03-05       117934.30          NaN -1.901902e+09  .  \n",
       "116197 2019-03-05             NaN     300000.0 -1.901602e+09  .  \n",
       "116198 2019-03-05             NaN     300000.0 -1.901302e+09  .  \n",
       "116199 2019-03-05       109868.65          NaN -1.901412e+09  .  \n",
       "116200 2019-03-05         5000.00          NaN -1.901417e+09  .  \n",
       "\n",
       "[116201 rows x 9 columns]"
      ]
     },
     "execution_count": 23,
     "metadata": {},
     "output_type": "execute_result"
    }
   ],
   "source": [
    "transactions"
   ]
  },
  {
   "cell_type": "code",
   "execution_count": 24,
   "metadata": {},
   "outputs": [
    {
     "data": {
      "text/plain": [
       "Index(['Account No', 'DATE', 'TRANSACTION DETAILS', 'CHQ.NO.', 'VALUE DATE',\n",
       "       'WITHDRAWAL AMT', 'DEPOSIT AMT', 'BALANCE AMT', '.'],\n",
       "      dtype='object')"
      ]
     },
     "execution_count": 24,
     "metadata": {},
     "output_type": "execute_result"
    }
   ],
   "source": [
    "transactions.columns"
   ]
  },
  {
   "cell_type": "code",
   "execution_count": 30,
   "metadata": {},
   "outputs": [
    {
     "data": {
      "text/plain": [
       "0        2017-06-29\n",
       "1        2017-07-05\n",
       "2        2017-07-18\n",
       "3        2017-08-01\n",
       "4        2017-08-16\n",
       "            ...    \n",
       "116196   2019-03-05\n",
       "116197   2019-03-05\n",
       "116198   2019-03-05\n",
       "116199   2019-03-05\n",
       "116200   2019-03-05\n",
       "Name: DATE, Length: 116201, dtype: datetime64[ns]"
      ]
     },
     "execution_count": 30,
     "metadata": {},
     "output_type": "execute_result"
    }
   ],
   "source": [
    "pd.to_datetime(transactions.DATE)"
   ]
  },
  {
   "cell_type": "code",
   "execution_count": 32,
   "metadata": {},
   "outputs": [],
   "source": [
    "# Convert timestamp to datetime\n",
    "transactions[\"DATE\"] = pd.to_datetime(transactions.DATE)\n",
    "\n",
    "# Add time-based features\n",
    "transactions[\"day_of_week\"] = transactions[\"DATE\"].dt.dayofweek\n",
    "transactions[\"hour\"] = transactions[\"DATE\"].dt.hour\n",
    "\n",
    "# Filter to relevant columns\n",
    "filtered_columns = [\"Account No\", \"WITHDRAWAL AMT\", \"TRANSACTION DETAILS\", \"day_of_week\", \"hour\"]\n",
    "transactions = transactions[filtered_columns]\n",
    "\n",
    "# Handle missing values\n",
    "transactions = transactions.fillna(0)\n",
    "\n",
    "# Remove outliers\n",
    "transactions = transactions[transactions[\"WITHDRAWAL AMT\"] < 1000000]\n",
    "\n",
    "# Export cleaned dataset\n",
    "transactions.to_csv(\"clean_transactions.csv\", index=False)"
   ]
  },
  {
   "cell_type": "code",
   "execution_count": 34,
   "metadata": {},
   "outputs": [
    {
     "name": "stdout",
     "output_type": "stream",
     "text": [
      "count     96832.000000\n",
      "mean      23565.105457\n",
      "std       96031.635253\n",
      "min           0.000000\n",
      "25%           0.000000\n",
      "50%           0.000000\n",
      "75%        1580.310000\n",
      "max      999822.000000\n",
      "Name: WITHDRAWAL AMT, dtype: float64\n"
     ]
    }
   ],
   "source": [
    "print(transactions[\"WITHDRAWAL AMT\"].describe())"
   ]
  },
  {
   "cell_type": "code",
   "execution_count": 37,
   "metadata": {},
   "outputs": [
    {
     "name": "stdout",
     "output_type": "stream",
     "text": [
      "             TRANSACTION DETAILS  day_of_week  WITHDRAWAL AMT\n",
      "0                              0            0             0.0\n",
      "1                              0            1             0.0\n",
      "2                              0            2             0.0\n",
      "3                              0            3             0.0\n",
      "4                              0            4             0.0\n",
      "...                          ...          ...             ...\n",
      "43268  ZEN LEFIN PVT LTD170123CF            0             0.0\n",
      "43269  ZEN LEFIN PVT LTD170125A0            2             0.0\n",
      "43270  ZEN LEFIN PVT LTD1701302E            0             0.0\n",
      "43271  ZEN LEFIN PVT LTD170206BA            0             0.0\n",
      "43272  ZEN LEFIN PVT LTD1702245A            4             0.0\n",
      "\n",
      "[43273 rows x 3 columns]\n"
     ]
    }
   ],
   "source": [
    "# Daily amount transferred by account type\n",
    "daily_amounts = transactions.groupby([\"TRANSACTION DETAILS\", \"day_of_week\"])[\"WITHDRAWAL AMT\"].sum().reset_index()\n",
    "\n",
    "print(daily_amounts)"
   ]
  },
  {
   "cell_type": "code",
   "execution_count": 52,
   "metadata": {},
   "outputs": [
    {
     "name": "stderr",
     "output_type": "stream",
     "text": [
      "/Users/vamsi/anaconda3/envs/wydo/lib/python3.10/site-packages/seaborn/_oldcore.py:1119: FutureWarning: use_inf_as_na option is deprecated and will be removed in a future version. Convert inf values to NaN before operating instead.\n",
      "  with pd.option_context('mode.use_inf_as_na', True):\n"
     ]
    },
    {
     "data": {
      "text/plain": [
       "<Axes: xlabel='hour', ylabel='Count'>"
      ]
     },
     "execution_count": 52,
     "metadata": {},
     "output_type": "execute_result"
    },
    {
     "data": {
      "image/png": "[encoded data removed]",
      "text/plain": [
       "<Figure size 640x480 with 1 Axes>"
      ]
     },
     "metadata": {},
     "output_type": "display_data"
    }
   ],
   "source": [
    "# Hourly transaction histogram\n",
    "import seaborn as sns\n",
    "\n",
    "sns.histplot(x=\"hour\", data=transactions, bins=24)"
   ]
  },
  {
   "cell_type": "code",
   "execution_count": 63,
   "metadata": {},
   "outputs": [],
   "source": [
    "transactions['Account No']= transactions[\"Account No\"].str.replace(\"'\", \"\").astype(int)"
   ]
  },
  {
   "cell_type": "code",
   "execution_count": 81,
   "metadata": {},
   "outputs": [
    {
     "data": {
      "text/plain": [
       "Index(['Account No', 'WITHDRAWAL AMT', 'TRANSACTION DETAILS', 'day_of_week',\n",
       "       'hour'],\n",
       "      dtype='object')"
      ]
     },
     "execution_count": 81,
     "metadata": {},
     "output_type": "execute_result"
    }
   ],
   "source": [
    "transactions.columns"
   ]
  },
  {
   "cell_type": "code",
   "execution_count": 83,
   "metadata": {},
   "outputs": [
    {
     "data": {
      "text/html": [
       "<div>\n",
       "<style scoped>\n",
       "    .dataframe tbody tr th:only-of-type {\n",
       "        vertical-align: middle;\n",
       "    }\n",
       "\n",
       "    .dataframe tbody tr th {\n",
       "        vertical-align: top;\n",
       "    }\n",
       "\n",
       "    .dataframe thead th {\n",
       "        text-align: right;\n",
       "    }\n",
       "</style>\n",
       "<table border=\"1\" class=\"dataframe\">\n",
       "  <thead>\n",
       "    <tr style=\"text-align: right;\">\n",
       "      <th></th>\n",
       "      <th>Account No</th>\n",
       "      <th>WITHDRAWAL AMT</th>\n",
       "      <th>day_of_week</th>\n",
       "      <th>hour</th>\n",
       "    </tr>\n",
       "  </thead>\n",
       "  <tbody>\n",
       "    <tr>\n",
       "      <th>Account No</th>\n",
       "      <td>1.000000</td>\n",
       "      <td>0.101058</td>\n",
       "      <td>-0.002073</td>\n",
       "      <td>NaN</td>\n",
       "    </tr>\n",
       "    <tr>\n",
       "      <th>WITHDRAWAL AMT</th>\n",
       "      <td>0.101058</td>\n",
       "      <td>1.000000</td>\n",
       "      <td>-0.011448</td>\n",
       "      <td>NaN</td>\n",
       "    </tr>\n",
       "    <tr>\n",
       "      <th>day_of_week</th>\n",
       "      <td>-0.002073</td>\n",
       "      <td>-0.011448</td>\n",
       "      <td>1.000000</td>\n",
       "      <td>NaN</td>\n",
       "    </tr>\n",
       "    <tr>\n",
       "      <th>hour</th>\n",
       "      <td>NaN</td>\n",
       "      <td>NaN</td>\n",
       "      <td>NaN</td>\n",
       "      <td>NaN</td>\n",
       "    </tr>\n",
       "  </tbody>\n",
       "</table>\n",
       "</div>"
      ],
      "text/plain": [
       "                Account No  WITHDRAWAL AMT  day_of_week  hour\n",
       "Account No        1.000000        0.101058    -0.002073   NaN\n",
       "WITHDRAWAL AMT    0.101058        1.000000    -0.011448   NaN\n",
       "day_of_week      -0.002073       -0.011448     1.000000   NaN\n",
       "hour                   NaN             NaN          NaN   NaN"
      ]
     },
     "execution_count": 83,
     "metadata": {},
     "output_type": "execute_result"
    }
   ],
   "source": [
    "transactions.groupby(['TRANSACTION DETAILS']).mean().corr()"
   ]
  },
  {
   "cell_type": "code",
   "execution_count": 84,
   "metadata": {},
   "outputs": [
    {
     "name": "stderr",
     "output_type": "stream",
     "text": [
      "/Users/vamsi/anaconda3/envs/wydo/lib/python3.10/site-packages/seaborn/matrix.py:260: FutureWarning: Format strings passed to MaskedConstant are ignored, but in future may error or produce different behavior\n",
      "  annotation = (\"{:\" + self.fmt + \"}\").format(val)\n"
     ]
    },
    {
     "data": {
      "image/png": "[encoded data removed]",
      "text/plain": [
       "<Figure size 640x480 with 2 Axes>"
      ]
     },
     "metadata": {},
     "output_type": "display_data"
    }
   ],
   "source": [
    "# Correlation matrix heatmap\n",
    "import matplotlib.pyplot as plt\n",
    "\n",
    "corr_matrix = transactions.groupby(['TRANSACTION DETAILS']).mean().corr()\n",
    "sns.heatmap(corr_matrix, annot=True)\n",
    "plt.show()"
   ]
  },
  {
   "cell_type": "code",
   "execution_count": 89,
   "metadata": {},
   "outputs": [],
   "source": [
    "# Feature set\n",
    "X = transactions[['Account No', 'WITHDRAWAL AMT', \n",
    "                  'day_of_week', 'hour']]\n",
    "\n",
    "# Labels - 1 for suspected money mule, 0 for normal\n",
    "y = [0, 1, 0, 1]"
   ]
  }
 ],
 "metadata": {
  "kernelspec": {
   "display_name": "wydo",
   "language": "python",
   "name": "python3"
  },
  "language_info": {
   "codemirror_mode": {
    "name": "ipython",
    "version": 3
   },
   "file_extension": ".py",
   "mimetype": "text/x-python",
   "name": "python",
   "nbconvert_exporter": "python",
   "pygments_lexer": "ipython3",
   "version": "3.10.8"
  }
 },
 "nbformat": 4,
 "nbformat_minor": 2
}
